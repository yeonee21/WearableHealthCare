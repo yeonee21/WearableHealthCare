{
 "cells": [
  {
   "cell_type": "code",
   "execution_count": 86,
   "id": "2cfff712",
   "metadata": {},
   "outputs": [],
   "source": [
    "import os\n",
    "import math\n",
    "import pandas_datareader as web # stock values\n",
    "import numpy as np\n",
    "import pandas as pd\n",
    "import datetime as dt\n",
    "from sklearn.preprocessing import StandardScaler, MinMaxScaler\n",
    "from sklearn.metrics import mean_squared_error\n",
    "\n",
    "from tensorflow.keras.models import Sequential\n",
    "from tensorflow.keras.layers import TimeDistributed, ConvLSTM1D, Conv2D, Conv1D, LSTM\n",
    "from tensorflow.keras.layers import Flatten, Dense, Dropout, BatchNormalization, MaxPooling1D\n",
    "\n",
    "import matplotlib.pyplot as plt\n",
    "import seaborn as sns\n",
    "import warnings\n",
    "\n",
    "\n",
    "%matplotlib inline\n",
    "warnings.filterwarnings('ignore')"
   ]
  },
  {
   "cell_type": "code",
   "execution_count": 3,
   "id": "1524dbbe",
   "metadata": {},
   "outputs": [
    {
     "data": {
      "text/html": [
       "<div>\n",
       "<style scoped>\n",
       "    .dataframe tbody tr th:only-of-type {\n",
       "        vertical-align: middle;\n",
       "    }\n",
       "\n",
       "    .dataframe tbody tr th {\n",
       "        vertical-align: top;\n",
       "    }\n",
       "\n",
       "    .dataframe thead th {\n",
       "        text-align: right;\n",
       "    }\n",
       "</style>\n",
       "<table border=\"1\" class=\"dataframe\">\n",
       "  <thead>\n",
       "    <tr style=\"text-align: right;\">\n",
       "      <th></th>\n",
       "      <th>High</th>\n",
       "      <th>Low</th>\n",
       "      <th>Open</th>\n",
       "      <th>Close</th>\n",
       "      <th>Volume</th>\n",
       "      <th>Adj Close</th>\n",
       "    </tr>\n",
       "    <tr>\n",
       "      <th>Date</th>\n",
       "      <th></th>\n",
       "      <th></th>\n",
       "      <th></th>\n",
       "      <th></th>\n",
       "      <th></th>\n",
       "      <th></th>\n",
       "    </tr>\n",
       "  </thead>\n",
       "  <tbody>\n",
       "    <tr>\n",
       "      <th>2012-05-18</th>\n",
       "      <td>45.000000</td>\n",
       "      <td>38.000000</td>\n",
       "      <td>42.049999</td>\n",
       "      <td>38.230000</td>\n",
       "      <td>573576400</td>\n",
       "      <td>38.230000</td>\n",
       "    </tr>\n",
       "    <tr>\n",
       "      <th>2012-05-21</th>\n",
       "      <td>36.660000</td>\n",
       "      <td>33.000000</td>\n",
       "      <td>36.529999</td>\n",
       "      <td>34.029999</td>\n",
       "      <td>168192700</td>\n",
       "      <td>34.029999</td>\n",
       "    </tr>\n",
       "    <tr>\n",
       "      <th>2012-05-22</th>\n",
       "      <td>33.590000</td>\n",
       "      <td>30.940001</td>\n",
       "      <td>32.610001</td>\n",
       "      <td>31.000000</td>\n",
       "      <td>101786600</td>\n",
       "      <td>31.000000</td>\n",
       "    </tr>\n",
       "    <tr>\n",
       "      <th>2012-05-23</th>\n",
       "      <td>32.500000</td>\n",
       "      <td>31.360001</td>\n",
       "      <td>31.370001</td>\n",
       "      <td>32.000000</td>\n",
       "      <td>73600000</td>\n",
       "      <td>32.000000</td>\n",
       "    </tr>\n",
       "    <tr>\n",
       "      <th>2012-05-24</th>\n",
       "      <td>33.209999</td>\n",
       "      <td>31.770000</td>\n",
       "      <td>32.950001</td>\n",
       "      <td>33.029999</td>\n",
       "      <td>50237200</td>\n",
       "      <td>33.029999</td>\n",
       "    </tr>\n",
       "    <tr>\n",
       "      <th>...</th>\n",
       "      <td>...</td>\n",
       "      <td>...</td>\n",
       "      <td>...</td>\n",
       "      <td>...</td>\n",
       "      <td>...</td>\n",
       "      <td>...</td>\n",
       "    </tr>\n",
       "    <tr>\n",
       "      <th>2020-12-24</th>\n",
       "      <td>270.399994</td>\n",
       "      <td>266.200012</td>\n",
       "      <td>268.880005</td>\n",
       "      <td>267.399994</td>\n",
       "      <td>6702000</td>\n",
       "      <td>267.399994</td>\n",
       "    </tr>\n",
       "    <tr>\n",
       "      <th>2020-12-28</th>\n",
       "      <td>277.299988</td>\n",
       "      <td>265.660004</td>\n",
       "      <td>268.739990</td>\n",
       "      <td>277.000000</td>\n",
       "      <td>23299700</td>\n",
       "      <td>277.000000</td>\n",
       "    </tr>\n",
       "    <tr>\n",
       "      <th>2020-12-29</th>\n",
       "      <td>280.510010</td>\n",
       "      <td>276.279999</td>\n",
       "      <td>276.950012</td>\n",
       "      <td>276.779999</td>\n",
       "      <td>16383000</td>\n",
       "      <td>276.779999</td>\n",
       "    </tr>\n",
       "    <tr>\n",
       "      <th>2020-12-30</th>\n",
       "      <td>278.079987</td>\n",
       "      <td>271.709991</td>\n",
       "      <td>277.950012</td>\n",
       "      <td>271.869995</td>\n",
       "      <td>11803800</td>\n",
       "      <td>271.869995</td>\n",
       "    </tr>\n",
       "    <tr>\n",
       "      <th>2020-12-31</th>\n",
       "      <td>277.089996</td>\n",
       "      <td>269.809998</td>\n",
       "      <td>272.000000</td>\n",
       "      <td>273.160004</td>\n",
       "      <td>12900400</td>\n",
       "      <td>273.160004</td>\n",
       "    </tr>\n",
       "  </tbody>\n",
       "</table>\n",
       "<p>2170 rows × 6 columns</p>\n",
       "</div>"
      ],
      "text/plain": [
       "                  High         Low        Open       Close     Volume  \\\n",
       "Date                                                                    \n",
       "2012-05-18   45.000000   38.000000   42.049999   38.230000  573576400   \n",
       "2012-05-21   36.660000   33.000000   36.529999   34.029999  168192700   \n",
       "2012-05-22   33.590000   30.940001   32.610001   31.000000  101786600   \n",
       "2012-05-23   32.500000   31.360001   31.370001   32.000000   73600000   \n",
       "2012-05-24   33.209999   31.770000   32.950001   33.029999   50237200   \n",
       "...                ...         ...         ...         ...        ...   \n",
       "2020-12-24  270.399994  266.200012  268.880005  267.399994    6702000   \n",
       "2020-12-28  277.299988  265.660004  268.739990  277.000000   23299700   \n",
       "2020-12-29  280.510010  276.279999  276.950012  276.779999   16383000   \n",
       "2020-12-30  278.079987  271.709991  277.950012  271.869995   11803800   \n",
       "2020-12-31  277.089996  269.809998  272.000000  273.160004   12900400   \n",
       "\n",
       "             Adj Close  \n",
       "Date                    \n",
       "2012-05-18   38.230000  \n",
       "2012-05-21   34.029999  \n",
       "2012-05-22   31.000000  \n",
       "2012-05-23   32.000000  \n",
       "2012-05-24   33.029999  \n",
       "...                ...  \n",
       "2020-12-24  267.399994  \n",
       "2020-12-28  277.000000  \n",
       "2020-12-29  276.779999  \n",
       "2020-12-30  271.869995  \n",
       "2020-12-31  273.160004  \n",
       "\n",
       "[2170 rows x 6 columns]"
      ]
     },
     "execution_count": 3,
     "metadata": {},
     "output_type": "execute_result"
    }
   ],
   "source": [
    "company = 'FB'\n",
    "\n",
    "start = dt.datetime(2012,1,1)\n",
    "end = dt.datetime(2021,1,1)\n",
    "df = web.DataReader(company, 'yahoo', start, end)\n",
    "\n",
    "df\n"
   ]
  },
  {
   "cell_type": "code",
   "execution_count": 6,
   "id": "6defdf97",
   "metadata": {},
   "outputs": [
    {
     "data": {
      "text/html": [
       "<div>\n",
       "<style scoped>\n",
       "    .dataframe tbody tr th:only-of-type {\n",
       "        vertical-align: middle;\n",
       "    }\n",
       "\n",
       "    .dataframe tbody tr th {\n",
       "        vertical-align: top;\n",
       "    }\n",
       "\n",
       "    .dataframe thead th {\n",
       "        text-align: right;\n",
       "    }\n",
       "</style>\n",
       "<table border=\"1\" class=\"dataframe\">\n",
       "  <thead>\n",
       "    <tr style=\"text-align: right;\">\n",
       "      <th></th>\n",
       "      <th>High</th>\n",
       "      <th>Low</th>\n",
       "      <th>Open</th>\n",
       "      <th>Close</th>\n",
       "    </tr>\n",
       "    <tr>\n",
       "      <th>Date</th>\n",
       "      <th></th>\n",
       "      <th></th>\n",
       "      <th></th>\n",
       "      <th></th>\n",
       "    </tr>\n",
       "  </thead>\n",
       "  <tbody>\n",
       "    <tr>\n",
       "      <th>2012-05-18</th>\n",
       "      <td>45.000000</td>\n",
       "      <td>38.000000</td>\n",
       "      <td>42.049999</td>\n",
       "      <td>38.230000</td>\n",
       "    </tr>\n",
       "    <tr>\n",
       "      <th>2012-05-21</th>\n",
       "      <td>36.660000</td>\n",
       "      <td>33.000000</td>\n",
       "      <td>36.529999</td>\n",
       "      <td>34.029999</td>\n",
       "    </tr>\n",
       "    <tr>\n",
       "      <th>2012-05-22</th>\n",
       "      <td>33.590000</td>\n",
       "      <td>30.940001</td>\n",
       "      <td>32.610001</td>\n",
       "      <td>31.000000</td>\n",
       "    </tr>\n",
       "    <tr>\n",
       "      <th>2012-05-23</th>\n",
       "      <td>32.500000</td>\n",
       "      <td>31.360001</td>\n",
       "      <td>31.370001</td>\n",
       "      <td>32.000000</td>\n",
       "    </tr>\n",
       "    <tr>\n",
       "      <th>2012-05-24</th>\n",
       "      <td>33.209999</td>\n",
       "      <td>31.770000</td>\n",
       "      <td>32.950001</td>\n",
       "      <td>33.029999</td>\n",
       "    </tr>\n",
       "  </tbody>\n",
       "</table>\n",
       "</div>"
      ],
      "text/plain": [
       "                 High        Low       Open      Close\n",
       "Date                                                  \n",
       "2012-05-18  45.000000  38.000000  42.049999  38.230000\n",
       "2012-05-21  36.660000  33.000000  36.529999  34.029999\n",
       "2012-05-22  33.590000  30.940001  32.610001  31.000000\n",
       "2012-05-23  32.500000  31.360001  31.370001  32.000000\n",
       "2012-05-24  33.209999  31.770000  32.950001  33.029999"
      ]
     },
     "execution_count": 6,
     "metadata": {},
     "output_type": "execute_result"
    }
   ],
   "source": [
    "dataset = df[['High', 'Low', 'Open' ,'Close']].astype(float)\n",
    "dataset.head()"
   ]
  },
  {
   "cell_type": "code",
   "execution_count": 7,
   "id": "38c26e1a",
   "metadata": {},
   "outputs": [
    {
     "data": {
      "text/plain": [
       "array([<AxesSubplot:xlabel='Date'>, <AxesSubplot:xlabel='Date'>,\n",
       "       <AxesSubplot:xlabel='Date'>, <AxesSubplot:xlabel='Date'>],\n",
       "      dtype=object)"
      ]
     },
     "execution_count": 7,
     "metadata": {},
     "output_type": "execute_result"
    },
    {
     "data": {
      "image/png": "[encoded data removed]",
      "text/plain": [
       "<Figure size 432x288 with 4 Axes>"
      ]
     },
     "metadata": {
      "needs_background": "light"
     },
     "output_type": "display_data"
    }
   ],
   "source": [
    "dataset.plot(subplots=True)"
   ]
  },
  {
   "cell_type": "code",
   "execution_count": 8,
   "id": "1646aa1c",
   "metadata": {},
   "outputs": [
    {
     "data": {
      "text/plain": [
       "['High', 'Low', 'Open', 'Close']"
      ]
     },
     "execution_count": 8,
     "metadata": {},
     "output_type": "execute_result"
    }
   ],
   "source": [
    "# multi variables\n",
    "cols = list(dataset)\n",
    "cols"
   ]
  },
  {
   "cell_type": "code",
   "execution_count": 31,
   "id": "2092e4f7",
   "metadata": {},
   "outputs": [
    {
     "data": {
      "text/plain": [
       "(2170, 4)"
      ]
     },
     "execution_count": 31,
     "metadata": {},
     "output_type": "execute_result"
    }
   ],
   "source": [
    "# Preprocessing + reshape dataset  (time, var, values, channel=1)\n",
    "scaler =  MinMaxScaler(feature_range = (0,1))\n",
    "scaled_data = scaler.fit_transform(dataset.values.reshape(-1, len(cols)))\n",
    "scaled_data.shape"
   ]
  },
  {
   "cell_type": "code",
   "execution_count": 11,
   "id": "0603074e",
   "metadata": {},
   "outputs": [
    {
     "data": {
      "text/html": [
       "<div>\n",
       "<style scoped>\n",
       "    .dataframe tbody tr th:only-of-type {\n",
       "        vertical-align: middle;\n",
       "    }\n",
       "\n",
       "    .dataframe tbody tr th {\n",
       "        vertical-align: top;\n",
       "    }\n",
       "\n",
       "    .dataframe thead th {\n",
       "        text-align: right;\n",
       "    }\n",
       "</style>\n",
       "<table border=\"1\" class=\"dataframe\">\n",
       "  <thead>\n",
       "    <tr style=\"text-align: right;\">\n",
       "      <th></th>\n",
       "      <th>High</th>\n",
       "      <th>Low</th>\n",
       "      <th>Open</th>\n",
       "      <th>Close</th>\n",
       "    </tr>\n",
       "  </thead>\n",
       "  <tbody>\n",
       "    <tr>\n",
       "      <th>0</th>\n",
       "      <td>0.093331</td>\n",
       "      <td>0.074229</td>\n",
       "      <td>0.084976</td>\n",
       "      <td>0.071633</td>\n",
       "    </tr>\n",
       "    <tr>\n",
       "      <th>1</th>\n",
       "      <td>0.064211</td>\n",
       "      <td>0.056080</td>\n",
       "      <td>0.065407</td>\n",
       "      <td>0.056957</td>\n",
       "    </tr>\n",
       "    <tr>\n",
       "      <th>2</th>\n",
       "      <td>0.053492</td>\n",
       "      <td>0.048603</td>\n",
       "      <td>0.051510</td>\n",
       "      <td>0.046369</td>\n",
       "    </tr>\n",
       "    <tr>\n",
       "      <th>3</th>\n",
       "      <td>0.049686</td>\n",
       "      <td>0.050127</td>\n",
       "      <td>0.047114</td>\n",
       "      <td>0.049864</td>\n",
       "    </tr>\n",
       "    <tr>\n",
       "      <th>4</th>\n",
       "      <td>0.052165</td>\n",
       "      <td>0.051615</td>\n",
       "      <td>0.052716</td>\n",
       "      <td>0.053463</td>\n",
       "    </tr>\n",
       "  </tbody>\n",
       "</table>\n",
       "</div>"
      ],
      "text/plain": [
       "       High       Low      Open     Close\n",
       "0  0.093331  0.074229  0.084976  0.071633\n",
       "1  0.064211  0.056080  0.065407  0.056957\n",
       "2  0.053492  0.048603  0.051510  0.046369\n",
       "3  0.049686  0.050127  0.047114  0.049864\n",
       "4  0.052165  0.051615  0.052716  0.053463"
      ]
     },
     "metadata": {},
     "output_type": "display_data"
    }
   ],
   "source": [
    "display(pd.DataFrame(scaled_data, columns = cols).head())"
   ]
  },
  {
   "cell_type": "code",
   "execution_count": 12,
   "id": "0c15d5f5",
   "metadata": {},
   "outputs": [
    {
     "data": {
      "text/plain": [
       "<matplotlib.legend.Legend at 0x7fd8b5a4a4a8>"
      ]
     },
     "execution_count": 12,
     "metadata": {},
     "output_type": "execute_result"
    },
    {
     "data": {
      "image/png": "[encoded data removed]",
      "text/plain": [
       "<Figure size 432x288 with 1 Axes>"
      ]
     },
     "metadata": {
      "needs_background": "light"
     },
     "output_type": "display_data"
    }
   ],
   "source": [
    "sns.lineplot(data=pd.DataFrame(scaled_data))\n",
    "plt.legend(labels=cols)"
   ]
  },
  {
   "cell_type": "code",
   "execution_count": 32,
   "id": "3c7aaa16",
   "metadata": {},
   "outputs": [
    {
     "data": {
      "text/plain": [
       "((1736, 4), (434, 4))"
      ]
     },
     "execution_count": 32,
     "metadata": {},
     "output_type": "execute_result"
    }
   ],
   "source": [
    "# Split train/test data\n",
    "train_dataset, test_dataset = np.vsplit(scaled_data, [int(len(dataset)*0.8)])\n",
    "train_dataset.shape, test_dataset.shape"
   ]
  },
  {
   "cell_type": "code",
   "execution_count": 93,
   "id": "4f5718ba",
   "metadata": {},
   "outputs": [
    {
     "data": {
      "text/plain": [
       "(1736, 4, 1)"
      ]
     },
     "execution_count": 93,
     "metadata": {},
     "output_type": "execute_result"
    }
   ],
   "source": [
    "train_datasetEX = np.expand_dims(train_dataset, axis = 2)\n",
    "train_datasetEX.shape"
   ]
  },
  {
   "cell_type": "code",
   "execution_count": 99,
   "id": "f557dc35",
   "metadata": {},
   "outputs": [],
   "source": [
    "x_train = []\n",
    "y_train = []\n",
    "\n",
    "# use 7days for prediction\n",
    "n_future = 1\n",
    "n_past = 7\n",
    "\n",
    "for i in range(n_past, len(train_dataset)-n_future+1):\n",
    "    x_train.append(train_datasetEX[i-n_past:i, 0:train_dataset.shape[1]])\n",
    "    y_train.append(train_dataset[i:i+n_future, 0:train_dataset.shape[1]])"
   ]
  },
  {
   "cell_type": "code",
   "execution_count": 100,
   "id": "2bd54488",
   "metadata": {},
   "outputs": [],
   "source": [
    "x_train, y_train = np.array(x_train), np.array(y_train)\n"
   ]
  },
  {
   "cell_type": "code",
   "execution_count": 101,
   "id": "b1974db3",
   "metadata": {},
   "outputs": [
    {
     "data": {
      "text/plain": [
       "((1729, 7, 4, 1), (1729, 1, 4))"
      ]
     },
     "execution_count": 101,
     "metadata": {},
     "output_type": "execute_result"
    }
   ],
   "source": [
    "\n",
    "x_train.shape, y_train.shape "
   ]
  },
  {
   "cell_type": "code",
   "execution_count": 108,
   "id": "87dde288",
   "metadata": {},
   "outputs": [
    {
     "name": "stdout",
     "output_type": "stream",
     "text": [
      "Model: \"sequential_28\"\n",
      "_________________________________________________________________\n",
      "Layer (type)                 Output Shape              Param #   \n",
      "=================================================================\n",
      "time_distributed_52 (TimeDis (None, None, 4, 64)       256       \n",
      "_________________________________________________________________\n",
      "time_distributed_53 (TimeDis (None, None, 4, 32)       6176      \n",
      "_________________________________________________________________\n",
      "time_distributed_54 (TimeDis (None, None, 4, 32)       0         \n",
      "_________________________________________________________________\n",
      "time_distributed_55 (TimeDis (None, None, 4, 16)       1552      \n",
      "_________________________________________________________________\n",
      "time_distributed_56 (TimeDis (None, None, 4, 16)       0         \n",
      "_________________________________________________________________\n",
      "time_distributed_57 (TimeDis (None, None, 4, 16)       0         \n",
      "_________________________________________________________________\n",
      "time_distributed_58 (TimeDis (None, None, 64)          0         \n",
      "_________________________________________________________________\n",
      "lstm_24 (LSTM)               (None, None, 20)          6800      \n",
      "_________________________________________________________________\n",
      "dropout_31 (Dropout)         (None, None, 20)          0         \n",
      "_________________________________________________________________\n",
      "lstm_25 (LSTM)               (None, None, 20)          3280      \n",
      "_________________________________________________________________\n",
      "dropout_32 (Dropout)         (None, None, 20)          0         \n",
      "_________________________________________________________________\n",
      "lstm_26 (LSTM)               (None, 4)                 400       \n",
      "=================================================================\n",
      "Total params: 18,464\n",
      "Trainable params: 18,464\n",
      "Non-trainable params: 0\n",
      "_________________________________________________________________\n"
     ]
    }
   ],
   "source": [
    "model = Sequential()\n",
    "model.add(TimeDistributed(Conv1D(filters=64, kernel_size=3, padding = 'same', activation=\"relu\"), input_shape=(None, x_train.shape[2], x_train.shape[3])))\n",
    "model.add(TimeDistributed(Conv1D(filters=32, kernel_size=3, padding = 'same', activation='relu')))\n",
    "model.add(TimeDistributed(Dropout(0.5)))\n",
    "model.add(TimeDistributed(Conv1D(filters=16, kernel_size=3, padding = 'same', activation='relu')))\n",
    "model.add(TimeDistributed(Dropout(0.5)))\n",
    "model.add(TimeDistributed(MaxPooling1D(pool_size=1)))\n",
    "model.add(TimeDistributed(Flatten()))\n",
    "\n",
    "# LSTM layer\n",
    "model.add(LSTM(20, return_sequences=True))\n",
    "model.add(Dropout(0.2))\n",
    "model.add(LSTM(20, return_sequences=True))\n",
    "model.add(Dropout(0.2))\n",
    "model.add(LSTM(x_train.shape[2], return_sequences=False))\n",
    "\n",
    "\n",
    "model.compile(optimizer='adam', loss='mse')\n",
    "model.summary()"
   ]
  },
  {
   "cell_type": "code",
   "execution_count": 109,
   "id": "d4356267",
   "metadata": {},
   "outputs": [
    {
     "name": "stdout",
     "output_type": "stream",
     "text": [
      "Epoch 1/50\n",
      "44/44 [==============================] - 8s 49ms/step - loss: 0.0079 - val_loss: 0.0052\n",
      "Epoch 2/50\n",
      "44/44 [==============================] - 1s 21ms/step - loss: 0.0492 - val_loss: 0.0393\n",
      "Epoch 3/50\n",
      "44/44 [==============================] - 1s 17ms/step - loss: 0.0193 - val_loss: 0.0165\n",
      "Epoch 4/50\n",
      "44/44 [==============================] - 1s 17ms/step - loss: 0.0084 - val_loss: 0.0061\n",
      "Epoch 5/50\n",
      "44/44 [==============================] - 1s 16ms/step - loss: 0.0039 - val_loss: 0.0041\n",
      "Epoch 6/50\n",
      "44/44 [==============================] - 1s 16ms/step - loss: 0.0035 - val_loss: 0.0028\n",
      "Epoch 7/50\n",
      "44/44 [==============================] - 1s 18ms/step - loss: 0.0036 - val_loss: 0.0025\n",
      "Epoch 8/50\n",
      "44/44 [==============================] - 1s 16ms/step - loss: 0.0041 - val_loss: 0.0024\n",
      "Epoch 9/50\n",
      "44/44 [==============================] - 1s 16ms/step - loss: 0.0043 - val_loss: 0.0020\n",
      "Epoch 10/50\n",
      "44/44 [==============================] - 1s 17ms/step - loss: 0.0040 - val_loss: 0.0019\n",
      "Epoch 11/50\n",
      "44/44 [==============================] - 1s 17ms/step - loss: 0.0041 - val_loss: 0.0018\n",
      "Epoch 12/50\n",
      "44/44 [==============================] - 1s 16ms/step - loss: 0.0036 - val_loss: 0.0016\n",
      "Epoch 13/50\n",
      "44/44 [==============================] - 1s 16ms/step - loss: 0.0031 - val_loss: 0.0019\n",
      "Epoch 14/50\n",
      "44/44 [==============================] - 1s 17ms/step - loss: 0.0028 - val_loss: 0.0016\n",
      "Epoch 15/50\n",
      "44/44 [==============================] - 1s 17ms/step - loss: 0.0022 - val_loss: 0.0017\n",
      "Epoch 16/50\n",
      "44/44 [==============================] - 1s 17ms/step - loss: 0.0019 - val_loss: 0.0018\n",
      "Epoch 17/50\n",
      "44/44 [==============================] - 1s 17ms/step - loss: 0.0018 - val_loss: 0.0015\n",
      "Epoch 18/50\n",
      "44/44 [==============================] - 1s 17ms/step - loss: 0.0019 - val_loss: 0.0018\n",
      "Epoch 19/50\n",
      "44/44 [==============================] - 1s 20ms/step - loss: 0.0016 - val_loss: 0.0014\n",
      "Epoch 20/50\n",
      "44/44 [==============================] - 1s 23ms/step - loss: 0.0016 - val_loss: 0.0015\n",
      "Epoch 21/50\n",
      "44/44 [==============================] - 1s 22ms/step - loss: 0.0017 - val_loss: 0.0020\n",
      "Epoch 22/50\n",
      "44/44 [==============================] - 1s 20ms/step - loss: 0.0015 - val_loss: 0.0014\n",
      "Epoch 23/50\n",
      "44/44 [==============================] - 1s 23ms/step - loss: 0.0014 - val_loss: 0.0015\n",
      "Epoch 24/50\n",
      "44/44 [==============================] - 1s 20ms/step - loss: 0.0014 - val_loss: 0.0017\n",
      "Epoch 25/50\n",
      "44/44 [==============================] - 1s 19ms/step - loss: 0.0012 - val_loss: 0.0016\n",
      "Epoch 26/50\n",
      "44/44 [==============================] - 1s 18ms/step - loss: 0.0012 - val_loss: 0.0015\n",
      "Epoch 27/50\n",
      "44/44 [==============================] - 1s 17ms/step - loss: 0.0011 - val_loss: 0.0019\n",
      "Epoch 28/50\n",
      "44/44 [==============================] - 1s 18ms/step - loss: 0.0011 - val_loss: 0.0016\n",
      "Epoch 29/50\n",
      "44/44 [==============================] - 1s 20ms/step - loss: 0.0012 - val_loss: 0.0015\n",
      "Epoch 30/50\n",
      "44/44 [==============================] - 1s 19ms/step - loss: 0.0011 - val_loss: 0.0017\n",
      "Epoch 31/50\n",
      "44/44 [==============================] - 1s 17ms/step - loss: 0.0012 - val_loss: 0.0022\n",
      "Epoch 32/50\n",
      "44/44 [==============================] - 1s 19ms/step - loss: 0.0011 - val_loss: 0.0017\n",
      "Epoch 33/50\n",
      "44/44 [==============================] - 1s 18ms/step - loss: 0.0011 - val_loss: 0.0016\n",
      "Epoch 34/50\n",
      "44/44 [==============================] - 1s 18ms/step - loss: 0.0012 - val_loss: 0.0019\n",
      "Epoch 35/50\n",
      "44/44 [==============================] - 1s 18ms/step - loss: 0.0011 - val_loss: 0.0017\n",
      "Epoch 36/50\n",
      "44/44 [==============================] - 1s 18ms/step - loss: 0.0011 - val_loss: 0.0017\n",
      "Epoch 37/50\n",
      "44/44 [==============================] - 1s 18ms/step - loss: 0.0014 - val_loss: 0.0016\n",
      "Epoch 38/50\n",
      "44/44 [==============================] - 1s 19ms/step - loss: 8.8262e-04 - val_loss: 0.0016\n",
      "Epoch 39/50\n",
      "44/44 [==============================] - 1s 19ms/step - loss: 0.0011 - val_loss: 0.0017\n",
      "Epoch 40/50\n",
      "44/44 [==============================] - 1s 19ms/step - loss: 8.5383e-04 - val_loss: 0.0015\n",
      "Epoch 41/50\n",
      "44/44 [==============================] - 1s 19ms/step - loss: 0.0014 - val_loss: 0.0019\n",
      "Epoch 42/50\n",
      "44/44 [==============================] - 1s 23ms/step - loss: 0.0012 - val_loss: 0.0016\n",
      "Epoch 43/50\n",
      "44/44 [==============================] - 1s 21ms/step - loss: 0.0014 - val_loss: 0.0021\n",
      "Epoch 44/50\n",
      "44/44 [==============================] - 1s 19ms/step - loss: 0.0011 - val_loss: 0.0022\n",
      "Epoch 45/50\n",
      "44/44 [==============================] - 1s 19ms/step - loss: 0.0011 - val_loss: 0.0051\n",
      "Epoch 46/50\n",
      "44/44 [==============================] - 1s 18ms/step - loss: 8.8625e-04 - val_loss: 0.0014\n",
      "Epoch 47/50\n",
      "44/44 [==============================] - 1s 18ms/step - loss: 0.0014 - val_loss: 0.0017\n",
      "Epoch 48/50\n",
      "44/44 [==============================] - 1s 19ms/step - loss: 0.0015 - val_loss: 0.0015\n",
      "Epoch 49/50\n",
      "44/44 [==============================] - 1s 26ms/step - loss: 0.0015 - val_loss: 0.0025\n",
      "Epoch 50/50\n",
      "44/44 [==============================] - 1s 23ms/step - loss: 0.0011 - val_loss: 0.0033\n"
     ]
    }
   ],
   "source": [
    "history = model.fit(x_train, y_train, epochs =50, batch_size=32,\n",
    "                    validation_split=0.20, verbose=1, shuffle = False)"
   ]
  },
  {
   "cell_type": "code",
   "execution_count": 111,
   "id": "26ad0a74",
   "metadata": {},
   "outputs": [
    {
     "data": {
      "image/png": "[encoded data removed]",
      "text/plain": [
       "<Figure size 432x288 with 1 Axes>"
      ]
     },
     "metadata": {
      "needs_background": "light"
     },
     "output_type": "display_data"
    }
   ],
   "source": [
    "plt.plot(history.history['loss'], label='Training loss')\n",
    "plt.plot(history.history['val_loss'], label='Validation loss')\n",
    "plt.legend()\n",
    "plt.show()"
   ]
  },
  {
   "cell_type": "code",
   "execution_count": null,
   "id": "1eed0d2a",
   "metadata": {},
   "outputs": [],
   "source": []
  },
  {
   "cell_type": "code",
   "execution_count": 112,
   "id": "ef4dcac5",
   "metadata": {},
   "outputs": [
    {
     "data": {
      "text/plain": [
       "((427, 7, 4, 1), (427, 1, 4))"
      ]
     },
     "execution_count": 112,
     "metadata": {},
     "output_type": "execute_result"
    }
   ],
   "source": [
    "# forecast\n",
    "test_datasetEX = np.expand_dims(test_dataset, axis = 2)\n",
    "test_datasetEX.shape\n",
    "\n",
    "x_test = []\n",
    "y_test = []\n",
    "\n",
    "for i in range(n_past, len(test_dataset)-n_future+1):\n",
    "    x_test.append(test_datasetEX[i-n_past:i, 0:test_dataset.shape[1]])\n",
    "    y_test.append(test_dataset[i:i+n_future, 0:test_dataset.shape[1]])\n",
    "    \n",
    "x_test, y_test = np.array(x_test), np.array(y_test)\n",
    "x_test.shape, y_test.shape"
   ]
  },
  {
   "cell_type": "code",
   "execution_count": 113,
   "id": "33b5c4c8",
   "metadata": {},
   "outputs": [],
   "source": [
    "forecast = model.predict(x_test)"
   ]
  },
  {
   "cell_type": "code",
   "execution_count": 114,
   "id": "0b220839",
   "metadata": {},
   "outputs": [
    {
     "data": {
      "text/plain": [
       "(427, 4)"
      ]
     },
     "execution_count": 114,
     "metadata": {},
     "output_type": "execute_result"
    }
   ],
   "source": [
    "forecast.shape"
   ]
  },
  {
   "cell_type": "code",
   "execution_count": 115,
   "id": "49120fdb",
   "metadata": {},
   "outputs": [
    {
     "data": {
      "text/plain": [
       "(427, 4)"
      ]
     },
     "execution_count": 115,
     "metadata": {},
     "output_type": "execute_result"
    }
   ],
   "source": [
    "# denormalize the predicted values\n",
    "\n",
    "predicted = scaler.inverse_transform(forecast)\n",
    "predicted.shape"
   ]
  },
  {
   "cell_type": "code",
   "execution_count": 116,
   "id": "30e3620a",
   "metadata": {},
   "outputs": [],
   "source": [
    "train_unscaled = scaler.inverse_transform(y_train.reshape(-1, y_train.shape[2]))\n",
    "test_unscaled = scaler.inverse_transform(y_test.reshape(-1, y_test.shape[2]))"
   ]
  },
  {
   "cell_type": "code",
   "execution_count": 117,
   "id": "83fdac96",
   "metadata": {},
   "outputs": [
    {
     "data": {
      "text/plain": [
       "((1729, 4), (427, 4))"
      ]
     },
     "execution_count": 117,
     "metadata": {},
     "output_type": "execute_result"
    }
   ],
   "source": [
    "train_unscaled.shape,test_unscaled.shape"
   ]
  },
  {
   "cell_type": "code",
   "execution_count": 118,
   "id": "d2e96957",
   "metadata": {},
   "outputs": [
    {
     "data": {
      "image/png": "[encoded data removed]",
      "text/plain": [
       "<Figure size 1152x720 with 4 Axes>"
      ]
     },
     "metadata": {
      "needs_background": "light"
     },
     "output_type": "display_data"
    }
   ],
   "source": [
    "# Check Predictions\n",
    "\n",
    "a_axis = np.arange(0, len(y_train))\n",
    "b_axis = np.arange(len(y_train), len(y_train)+len(y_test))\n",
    "\n",
    "plt.figure(figsize=(16,10))\n",
    "plt.subplot(2,2,1)\n",
    "plt.plot(a_axis, train_unscaled[:,0], color = 'black', label ='past n1')\n",
    "plt.plot(b_axis, test_unscaled[:,0], color = 'red', alpha=0.5, label ='true n1')\n",
    "plt.plot(b_axis, predicted[:,0], color = 'green', label ='pred n1')\n",
    "plt.legend()\n",
    "\n",
    "plt.subplot(2,2,2)\n",
    "plt.plot(a_axis, train_unscaled[:,1], color = 'black', label ='past n2')\n",
    "plt.plot(b_axis, test_unscaled[:,1], color = 'red', alpha=0.5, label ='true n2')\n",
    "plt.plot(b_axis, predicted[:,1], color = 'green', label ='pred n2')\n",
    "plt.legend()\n",
    "\n",
    "plt.subplot(2,2,3)\n",
    "plt.plot(a_axis, train_unscaled[:,2], color = 'black', label ='past n3')\n",
    "plt.plot(b_axis, test_unscaled[:,2], color = 'red', alpha=0.5, label ='true n3')\n",
    "plt.plot(b_axis, predicted[:,2], color = 'green', label ='pred n3')\n",
    "plt.legend()\n",
    "\n",
    "plt.subplot(2,2,4)\n",
    "plt.plot(a_axis, train_unscaled[:,3], color = 'black', label ='past n4')\n",
    "plt.plot(b_axis, test_unscaled[:,3], color = 'red', alpha=0.5, label ='true n4')\n",
    "plt.plot(b_axis, predicted[:,3], color = 'green', label ='pred n4')\n",
    "\n",
    "plt.legend()\n",
    "\n",
    "plt.show()\n"
   ]
  },
  {
   "cell_type": "code",
   "execution_count": 131,
   "id": "53d07413",
   "metadata": {},
   "outputs": [
    {
     "name": "stdout",
     "output_type": "stream",
     "text": [
      "Test Score: 18.65 RMSE\n"
     ]
    }
   ],
   "source": [
    "import math\n",
    "\n",
    "testScore = math.sqrt(mean_squared_error(test_unscaled[:200,0], predicted[:200,0]))\n",
    "print('Test Score: %.2f RMSE' % (testScore))"
   ]
  },
  {
   "cell_type": "code",
   "execution_count": null,
   "id": "325f20ae",
   "metadata": {},
   "outputs": [],
   "source": []
  },
  {
   "cell_type": "code",
   "execution_count": null,
   "id": "b8afdc15",
   "metadata": {},
   "outputs": [],
   "source": []
  },
  {
   "cell_type": "code",
   "execution_count": null,
   "id": "24d86763",
   "metadata": {},
   "outputs": [],
   "source": []
  },
  {
   "cell_type": "code",
   "execution_count": null,
   "id": "bcad9e24",
   "metadata": {},
   "outputs": [],
   "source": []
  },
  {
   "cell_type": "code",
   "execution_count": null,
   "id": "c33eb374",
   "metadata": {},
   "outputs": [],
   "source": []
  },
  {
   "cell_type": "code",
   "execution_count": null,
   "id": "1f73b653",
   "metadata": {},
   "outputs": [],
   "source": [
    "\n"
   ]
  },
  {
   "cell_type": "code",
   "execution_count": null,
   "id": "294d28b3",
   "metadata": {},
   "outputs": [],
   "source": []
  },
  {
   "cell_type": "code",
   "execution_count": null,
   "id": "f8baa379",
   "metadata": {},
   "outputs": [],
   "source": []
  },
  {
   "cell_type": "code",
   "execution_count": null,
   "id": "172c367d",
   "metadata": {},
   "outputs": [],
   "source": [
    "\n"
   ]
  },
  {
   "cell_type": "code",
   "execution_count": null,
   "id": "fdfdfcb2",
   "metadata": {},
   "outputs": [],
   "source": []
  },
  {
   "cell_type": "code",
   "execution_count": null,
   "id": "0780af14",
   "metadata": {},
   "outputs": [],
   "source": []
  },
  {
   "cell_type": "code",
   "execution_count": null,
   "id": "227475c5",
   "metadata": {},
   "outputs": [],
   "source": []
  },
  {
   "cell_type": "code",
   "execution_count": null,
   "id": "1a550c49",
   "metadata": {},
   "outputs": [],
   "source": []
  },
  {
   "cell_type": "code",
   "execution_count": null,
   "id": "5ff203cc",
   "metadata": {},
   "outputs": [],
   "source": []
  },
  {
   "cell_type": "code",
   "execution_count": null,
   "id": "fea85938",
   "metadata": {},
   "outputs": [],
   "source": []
  },
  {
   "cell_type": "code",
   "execution_count": null,
   "id": "f7cedde4",
   "metadata": {},
   "outputs": [],
   "source": []
  },
  {
   "cell_type": "code",
   "execution_count": null,
   "id": "b9768289",
   "metadata": {},
   "outputs": [],
   "source": []
  },
  {
   "cell_type": "code",
   "execution_count": null,
   "id": "f31c744b",
   "metadata": {},
   "outputs": [],
   "source": []
  },
  {
   "cell_type": "code",
   "execution_count": null,
   "id": "5c38741e",
   "metadata": {},
   "outputs": [],
   "source": []
  },
  {
   "cell_type": "code",
   "execution_count": null,
   "id": "c3732409",
   "metadata": {},
   "outputs": [],
   "source": []
  },
  {
   "cell_type": "code",
   "execution_count": null,
   "id": "1ddaea1c",
   "metadata": {},
   "outputs": [],
   "source": []
  }
 ],
 "metadata": {
  "kernelspec": {
   "display_name": "Python 3",
   "language": "python",
   "name": "python3"
  },
  "language_info": {
   "codemirror_mode": {
    "name": "ipython",
    "version": 3
   },
   "file_extension": ".py",
   "mimetype": "text/x-python",
   "name": "python",
   "nbconvert_exporter": "python",
   "pygments_lexer": "ipython3",
   "version": "3.6.13"
  }
 },
 "nbformat": 4,
 "nbformat_minor": 5
}
