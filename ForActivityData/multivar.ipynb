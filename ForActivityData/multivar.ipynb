{
 "cells": [
  {
   "cell_type": "code",
   "execution_count": 15,
   "id": "2cfff712",
   "metadata": {},
   "outputs": [],
   "source": [
    "import os\n",
    "import math\n",
    "import pandas_datareader as web # stock values\n",
    "import numpy as np\n",
    "import pandas as pd\n",
    "import datetime as dt\n",
    "from sklearn.preprocessing import StandardScaler, MinMaxScaler\n",
    "from sklearn.metrics import mean_squared_error\n",
    "\n",
    "from tensorflow.keras.models import Sequential\n",
    "from tensorflow.keras.layers import ConvLSTM1D, Conv2D, LSTM\n",
    "from tensorflow.keras.layers import Dense, Dropout, BatchNormalization\n",
    "\n",
    "import matplotlib.pyplot as plt\n",
    "import seaborn as sns\n",
    "import warnings\n",
    "\n",
    "\n",
    "%matplotlib inline\n",
    "warnings.filterwarnings('ignore')"
   ]
  },
  {
   "cell_type": "code",
   "execution_count": 3,
   "id": "1524dbbe",
   "metadata": {},
   "outputs": [
    {
     "data": {
      "text/html": [
       "<div>\n",
       "<style scoped>\n",
       "    .dataframe tbody tr th:only-of-type {\n",
       "        vertical-align: middle;\n",
       "    }\n",
       "\n",
       "    .dataframe tbody tr th {\n",
       "        vertical-align: top;\n",
       "    }\n",
       "\n",
       "    .dataframe thead th {\n",
       "        text-align: right;\n",
       "    }\n",
       "</style>\n",
       "<table border=\"1\" class=\"dataframe\">\n",
       "  <thead>\n",
       "    <tr style=\"text-align: right;\">\n",
       "      <th></th>\n",
       "      <th>High</th>\n",
       "      <th>Low</th>\n",
       "      <th>Open</th>\n",
       "      <th>Close</th>\n",
       "      <th>Volume</th>\n",
       "      <th>Adj Close</th>\n",
       "    </tr>\n",
       "    <tr>\n",
       "      <th>Date</th>\n",
       "      <th></th>\n",
       "      <th></th>\n",
       "      <th></th>\n",
       "      <th></th>\n",
       "      <th></th>\n",
       "      <th></th>\n",
       "    </tr>\n",
       "  </thead>\n",
       "  <tbody>\n",
       "    <tr>\n",
       "      <th>2012-05-18</th>\n",
       "      <td>45.000000</td>\n",
       "      <td>38.000000</td>\n",
       "      <td>42.049999</td>\n",
       "      <td>38.230000</td>\n",
       "      <td>573576400</td>\n",
       "      <td>38.230000</td>\n",
       "    </tr>\n",
       "    <tr>\n",
       "      <th>2012-05-21</th>\n",
       "      <td>36.660000</td>\n",
       "      <td>33.000000</td>\n",
       "      <td>36.529999</td>\n",
       "      <td>34.029999</td>\n",
       "      <td>168192700</td>\n",
       "      <td>34.029999</td>\n",
       "    </tr>\n",
       "    <tr>\n",
       "      <th>2012-05-22</th>\n",
       "      <td>33.590000</td>\n",
       "      <td>30.940001</td>\n",
       "      <td>32.610001</td>\n",
       "      <td>31.000000</td>\n",
       "      <td>101786600</td>\n",
       "      <td>31.000000</td>\n",
       "    </tr>\n",
       "    <tr>\n",
       "      <th>2012-05-23</th>\n",
       "      <td>32.500000</td>\n",
       "      <td>31.360001</td>\n",
       "      <td>31.370001</td>\n",
       "      <td>32.000000</td>\n",
       "      <td>73600000</td>\n",
       "      <td>32.000000</td>\n",
       "    </tr>\n",
       "    <tr>\n",
       "      <th>2012-05-24</th>\n",
       "      <td>33.209999</td>\n",
       "      <td>31.770000</td>\n",
       "      <td>32.950001</td>\n",
       "      <td>33.029999</td>\n",
       "      <td>50237200</td>\n",
       "      <td>33.029999</td>\n",
       "    </tr>\n",
       "    <tr>\n",
       "      <th>...</th>\n",
       "      <td>...</td>\n",
       "      <td>...</td>\n",
       "      <td>...</td>\n",
       "      <td>...</td>\n",
       "      <td>...</td>\n",
       "      <td>...</td>\n",
       "    </tr>\n",
       "    <tr>\n",
       "      <th>2020-12-24</th>\n",
       "      <td>270.399994</td>\n",
       "      <td>266.200012</td>\n",
       "      <td>268.880005</td>\n",
       "      <td>267.399994</td>\n",
       "      <td>6702000</td>\n",
       "      <td>267.399994</td>\n",
       "    </tr>\n",
       "    <tr>\n",
       "      <th>2020-12-28</th>\n",
       "      <td>277.299988</td>\n",
       "      <td>265.660004</td>\n",
       "      <td>268.739990</td>\n",
       "      <td>277.000000</td>\n",
       "      <td>23299700</td>\n",
       "      <td>277.000000</td>\n",
       "    </tr>\n",
       "    <tr>\n",
       "      <th>2020-12-29</th>\n",
       "      <td>280.510010</td>\n",
       "      <td>276.279999</td>\n",
       "      <td>276.950012</td>\n",
       "      <td>276.779999</td>\n",
       "      <td>16383000</td>\n",
       "      <td>276.779999</td>\n",
       "    </tr>\n",
       "    <tr>\n",
       "      <th>2020-12-30</th>\n",
       "      <td>278.079987</td>\n",
       "      <td>271.709991</td>\n",
       "      <td>277.950012</td>\n",
       "      <td>271.869995</td>\n",
       "      <td>11803800</td>\n",
       "      <td>271.869995</td>\n",
       "    </tr>\n",
       "    <tr>\n",
       "      <th>2020-12-31</th>\n",
       "      <td>277.089996</td>\n",
       "      <td>269.809998</td>\n",
       "      <td>272.000000</td>\n",
       "      <td>273.160004</td>\n",
       "      <td>12900400</td>\n",
       "      <td>273.160004</td>\n",
       "    </tr>\n",
       "  </tbody>\n",
       "</table>\n",
       "<p>2170 rows × 6 columns</p>\n",
       "</div>"
      ],
      "text/plain": [
       "                  High         Low        Open       Close     Volume  \\\n",
       "Date                                                                    \n",
       "2012-05-18   45.000000   38.000000   42.049999   38.230000  573576400   \n",
       "2012-05-21   36.660000   33.000000   36.529999   34.029999  168192700   \n",
       "2012-05-22   33.590000   30.940001   32.610001   31.000000  101786600   \n",
       "2012-05-23   32.500000   31.360001   31.370001   32.000000   73600000   \n",
       "2012-05-24   33.209999   31.770000   32.950001   33.029999   50237200   \n",
       "...                ...         ...         ...         ...        ...   \n",
       "2020-12-24  270.399994  266.200012  268.880005  267.399994    6702000   \n",
       "2020-12-28  277.299988  265.660004  268.739990  277.000000   23299700   \n",
       "2020-12-29  280.510010  276.279999  276.950012  276.779999   16383000   \n",
       "2020-12-30  278.079987  271.709991  277.950012  271.869995   11803800   \n",
       "2020-12-31  277.089996  269.809998  272.000000  273.160004   12900400   \n",
       "\n",
       "             Adj Close  \n",
       "Date                    \n",
       "2012-05-18   38.230000  \n",
       "2012-05-21   34.029999  \n",
       "2012-05-22   31.000000  \n",
       "2012-05-23   32.000000  \n",
       "2012-05-24   33.029999  \n",
       "...                ...  \n",
       "2020-12-24  267.399994  \n",
       "2020-12-28  277.000000  \n",
       "2020-12-29  276.779999  \n",
       "2020-12-30  271.869995  \n",
       "2020-12-31  273.160004  \n",
       "\n",
       "[2170 rows x 6 columns]"
      ]
     },
     "execution_count": 3,
     "metadata": {},
     "output_type": "execute_result"
    }
   ],
   "source": [
    "company = 'FB'\n",
    "\n",
    "start = dt.datetime(2012,1,1)\n",
    "end = dt.datetime(2021,1,1)\n",
    "df = web.DataReader(company, 'yahoo', start, end)\n",
    "\n",
    "df\n"
   ]
  },
  {
   "cell_type": "code",
   "execution_count": 6,
   "id": "6defdf97",
   "metadata": {},
   "outputs": [
    {
     "data": {
      "text/html": [
       "<div>\n",
       "<style scoped>\n",
       "    .dataframe tbody tr th:only-of-type {\n",
       "        vertical-align: middle;\n",
       "    }\n",
       "\n",
       "    .dataframe tbody tr th {\n",
       "        vertical-align: top;\n",
       "    }\n",
       "\n",
       "    .dataframe thead th {\n",
       "        text-align: right;\n",
       "    }\n",
       "</style>\n",
       "<table border=\"1\" class=\"dataframe\">\n",
       "  <thead>\n",
       "    <tr style=\"text-align: right;\">\n",
       "      <th></th>\n",
       "      <th>High</th>\n",
       "      <th>Low</th>\n",
       "      <th>Open</th>\n",
       "      <th>Close</th>\n",
       "    </tr>\n",
       "    <tr>\n",
       "      <th>Date</th>\n",
       "      <th></th>\n",
       "      <th></th>\n",
       "      <th></th>\n",
       "      <th></th>\n",
       "    </tr>\n",
       "  </thead>\n",
       "  <tbody>\n",
       "    <tr>\n",
       "      <th>2012-05-18</th>\n",
       "      <td>45.000000</td>\n",
       "      <td>38.000000</td>\n",
       "      <td>42.049999</td>\n",
       "      <td>38.230000</td>\n",
       "    </tr>\n",
       "    <tr>\n",
       "      <th>2012-05-21</th>\n",
       "      <td>36.660000</td>\n",
       "      <td>33.000000</td>\n",
       "      <td>36.529999</td>\n",
       "      <td>34.029999</td>\n",
       "    </tr>\n",
       "    <tr>\n",
       "      <th>2012-05-22</th>\n",
       "      <td>33.590000</td>\n",
       "      <td>30.940001</td>\n",
       "      <td>32.610001</td>\n",
       "      <td>31.000000</td>\n",
       "    </tr>\n",
       "    <tr>\n",
       "      <th>2012-05-23</th>\n",
       "      <td>32.500000</td>\n",
       "      <td>31.360001</td>\n",
       "      <td>31.370001</td>\n",
       "      <td>32.000000</td>\n",
       "    </tr>\n",
       "    <tr>\n",
       "      <th>2012-05-24</th>\n",
       "      <td>33.209999</td>\n",
       "      <td>31.770000</td>\n",
       "      <td>32.950001</td>\n",
       "      <td>33.029999</td>\n",
       "    </tr>\n",
       "  </tbody>\n",
       "</table>\n",
       "</div>"
      ],
      "text/plain": [
       "                 High        Low       Open      Close\n",
       "Date                                                  \n",
       "2012-05-18  45.000000  38.000000  42.049999  38.230000\n",
       "2012-05-21  36.660000  33.000000  36.529999  34.029999\n",
       "2012-05-22  33.590000  30.940001  32.610001  31.000000\n",
       "2012-05-23  32.500000  31.360001  31.370001  32.000000\n",
       "2012-05-24  33.209999  31.770000  32.950001  33.029999"
      ]
     },
     "execution_count": 6,
     "metadata": {},
     "output_type": "execute_result"
    }
   ],
   "source": [
    "dataset = df[['High', 'Low', 'Open' ,'Close']].astype(float)\n",
    "dataset.head()"
   ]
  },
  {
   "cell_type": "code",
   "execution_count": 7,
   "id": "38c26e1a",
   "metadata": {},
   "outputs": [
    {
     "data": {
      "text/plain": [
       "array([<AxesSubplot:xlabel='Date'>, <AxesSubplot:xlabel='Date'>,\n",
       "       <AxesSubplot:xlabel='Date'>, <AxesSubplot:xlabel='Date'>],\n",
       "      dtype=object)"
      ]
     },
     "execution_count": 7,
     "metadata": {},
     "output_type": "execute_result"
    },
    {
     "data": {
      "image/png": "[encoded data removed]",
      "text/plain": [
       "<Figure size 432x288 with 4 Axes>"
      ]
     },
     "metadata": {
      "needs_background": "light"
     },
     "output_type": "display_data"
    }
   ],
   "source": [
    "dataset.plot(subplots=True)"
   ]
  },
  {
   "cell_type": "code",
   "execution_count": 8,
   "id": "1646aa1c",
   "metadata": {},
   "outputs": [
    {
     "data": {
      "text/plain": [
       "['High', 'Low', 'Open', 'Close']"
      ]
     },
     "execution_count": 8,
     "metadata": {},
     "output_type": "execute_result"
    }
   ],
   "source": [
    "# multi variables\n",
    "cols = list(dataset)\n",
    "cols"
   ]
  },
  {
   "cell_type": "code",
   "execution_count": 31,
   "id": "2092e4f7",
   "metadata": {},
   "outputs": [
    {
     "data": {
      "text/plain": [
       "(2170, 4)"
      ]
     },
     "execution_count": 31,
     "metadata": {},
     "output_type": "execute_result"
    }
   ],
   "source": [
    "# Preprocessing + reshape dataset  (time, var, values, channel=1)\n",
    "scaler =  MinMaxScaler(feature_range = (0,1))\n",
    "scaled_data = scaler.fit_transform(dataset.values.reshape(-1, len(cols)))\n",
    "scaled_data.shape"
   ]
  },
  {
   "cell_type": "code",
   "execution_count": 11,
   "id": "0603074e",
   "metadata": {},
   "outputs": [
    {
     "data": {
      "text/html": [
       "<div>\n",
       "<style scoped>\n",
       "    .dataframe tbody tr th:only-of-type {\n",
       "        vertical-align: middle;\n",
       "    }\n",
       "\n",
       "    .dataframe tbody tr th {\n",
       "        vertical-align: top;\n",
       "    }\n",
       "\n",
       "    .dataframe thead th {\n",
       "        text-align: right;\n",
       "    }\n",
       "</style>\n",
       "<table border=\"1\" class=\"dataframe\">\n",
       "  <thead>\n",
       "    <tr style=\"text-align: right;\">\n",
       "      <th></th>\n",
       "      <th>High</th>\n",
       "      <th>Low</th>\n",
       "      <th>Open</th>\n",
       "      <th>Close</th>\n",
       "    </tr>\n",
       "  </thead>\n",
       "  <tbody>\n",
       "    <tr>\n",
       "      <th>0</th>\n",
       "      <td>0.093331</td>\n",
       "      <td>0.074229</td>\n",
       "      <td>0.084976</td>\n",
       "      <td>0.071633</td>\n",
       "    </tr>\n",
       "    <tr>\n",
       "      <th>1</th>\n",
       "      <td>0.064211</td>\n",
       "      <td>0.056080</td>\n",
       "      <td>0.065407</td>\n",
       "      <td>0.056957</td>\n",
       "    </tr>\n",
       "    <tr>\n",
       "      <th>2</th>\n",
       "      <td>0.053492</td>\n",
       "      <td>0.048603</td>\n",
       "      <td>0.051510</td>\n",
       "      <td>0.046369</td>\n",
       "    </tr>\n",
       "    <tr>\n",
       "      <th>3</th>\n",
       "      <td>0.049686</td>\n",
       "      <td>0.050127</td>\n",
       "      <td>0.047114</td>\n",
       "      <td>0.049864</td>\n",
       "    </tr>\n",
       "    <tr>\n",
       "      <th>4</th>\n",
       "      <td>0.052165</td>\n",
       "      <td>0.051615</td>\n",
       "      <td>0.052716</td>\n",
       "      <td>0.053463</td>\n",
       "    </tr>\n",
       "  </tbody>\n",
       "</table>\n",
       "</div>"
      ],
      "text/plain": [
       "       High       Low      Open     Close\n",
       "0  0.093331  0.074229  0.084976  0.071633\n",
       "1  0.064211  0.056080  0.065407  0.056957\n",
       "2  0.053492  0.048603  0.051510  0.046369\n",
       "3  0.049686  0.050127  0.047114  0.049864\n",
       "4  0.052165  0.051615  0.052716  0.053463"
      ]
     },
     "metadata": {},
     "output_type": "display_data"
    }
   ],
   "source": [
    "display(pd.DataFrame(scaled_data, columns = cols).head())"
   ]
  },
  {
   "cell_type": "code",
   "execution_count": 12,
   "id": "62276212",
   "metadata": {},
   "outputs": [
    {
     "data": {
      "text/plain": [
       "<matplotlib.legend.Legend at 0x7fd8b5a4a4a8>"
      ]
     },
     "execution_count": 12,
     "metadata": {},
     "output_type": "execute_result"
    },
    {
     "data": {
      "image/png": "[encoded data removed]",
      "text/plain": [
       "<Figure size 432x288 with 1 Axes>"
      ]
     },
     "metadata": {
      "needs_background": "light"
     },
     "output_type": "display_data"
    }
   ],
   "source": [
    "sns.lineplot(data=pd.DataFrame(scaled_data))\n",
    "plt.legend(labels=cols)"
   ]
  },
  {
   "cell_type": "code",
   "execution_count": 32,
   "id": "3c7aaa16",
   "metadata": {},
   "outputs": [
    {
     "data": {
      "text/plain": [
       "((1736, 4), (434, 4))"
      ]
     },
     "execution_count": 32,
     "metadata": {},
     "output_type": "execute_result"
    }
   ],
   "source": [
    "# Split train/test data\n",
    "train_dataset, test_dataset = np.vsplit(scaled_data, [int(len(dataset)*0.8)])\n",
    "train_dataset.shape, test_dataset.shape"
   ]
  },
  {
   "cell_type": "code",
   "execution_count": 33,
   "id": "4f5718ba",
   "metadata": {},
   "outputs": [
    {
     "data": {
      "text/plain": [
       "(1736, 4, 1)"
      ]
     },
     "execution_count": 33,
     "metadata": {},
     "output_type": "execute_result"
    }
   ],
   "source": [
    "train_datasetEX = np.expand_dims(train_dataset, axis = 2)\n",
    "train_datasetEX.shape"
   ]
  },
  {
   "cell_type": "code",
   "execution_count": 37,
   "id": "f557dc35",
   "metadata": {},
   "outputs": [],
   "source": [
    "x_train = []\n",
    "y_train = []\n",
    "\n",
    "# use 7days for prediction\n",
    "n_future = 1\n",
    "n_past = 7\n",
    "\n",
    "for i in range(n_past, len(train_dataset)-n_future+1):\n",
    "    x_train.append(train_datasetEX[i-n_past:i, 0:train_dataset.shape[1]])\n",
    "    y_train.append(train_dataset[i:i+n_future, 0:train_dataset.shape[1]])"
   ]
  },
  {
   "cell_type": "code",
   "execution_count": 38,
   "id": "2bd54488",
   "metadata": {},
   "outputs": [],
   "source": [
    "x_train, y_train = np.array(x_train), np.array(y_train)\n"
   ]
  },
  {
   "cell_type": "code",
   "execution_count": 39,
   "id": "b1974db3",
   "metadata": {},
   "outputs": [
    {
     "data": {
      "text/plain": [
       "((1729, 7, 4, 1), (1729, 1, 4))"
      ]
     },
     "execution_count": 39,
     "metadata": {},
     "output_type": "execute_result"
    }
   ],
   "source": [
    "# x_train: n_samples, n_timesteps, n_features, channels\n",
    "x_train.shape, y_train.shape # n_samples, n_timesteps, n_features, channels"
   ]
  },
  {
   "cell_type": "code",
   "execution_count": 41,
   "id": "87dde288",
   "metadata": {},
   "outputs": [
    {
     "name": "stdout",
     "output_type": "stream",
     "text": [
      "Model: \"sequential_5\"\n",
      "_________________________________________________________________\n",
      "Layer (type)                 Output Shape              Param #   \n",
      "=================================================================\n",
      "conv_lst_m1d_10 (ConvLSTM1D) (None, None, 4, 30)       11280     \n",
      "_________________________________________________________________\n",
      "batch_normalization_10 (Batc (None, None, 4, 30)       120       \n",
      "_________________________________________________________________\n",
      "conv_lst_m1d_11 (ConvLSTM1D) (None, 4, 30)             21720     \n",
      "_________________________________________________________________\n",
      "batch_normalization_11 (Batc (None, 4, 30)             120       \n",
      "_________________________________________________________________\n",
      "lstm_5 (LSTM)                (None, 4, 10)             1640      \n",
      "_________________________________________________________________\n",
      "dropout_1 (Dropout)          (None, 4, 10)             0         \n",
      "_________________________________________________________________\n",
      "lstm_6 (LSTM)                (None, 4)                 240       \n",
      "=================================================================\n",
      "Total params: 35,120\n",
      "Trainable params: 35,000\n",
      "Non-trainable params: 120\n",
      "_________________________________________________________________\n"
     ]
    }
   ],
   "source": [
    "model = Sequential()\n",
    "model.add(ConvLSTM1D(filters=30, kernel_size=3, \n",
    "                     input_shape=(None, x_train.shape[2], x_train.shape[3]),\n",
    "                     padding=\"same\", return_sequences=True))\n",
    "model.add(BatchNormalization())\n",
    "model.add(ConvLSTM1D(filters=30, kernel_size=3, \n",
    "                     padding=\"same\", return_sequences=False))\n",
    "model.add(BatchNormalization())\n",
    "model.add(LSTM(units= 10, return_sequences=True))\n",
    "model.add(Dropout(0.2))\n",
    "model.add(LSTM(units=4, return_sequences=False))\n",
    "\n",
    "model.compile(optimizer='adam', loss='mse')\n",
    "model.summary()"
   ]
  },
  {
   "cell_type": "code",
   "execution_count": 42,
   "id": "d4356267",
   "metadata": {},
   "outputs": [
    {
     "name": "stdout",
     "output_type": "stream",
     "text": [
      "Epoch 1/50\n",
      "44/44 [==============================] - 12s 61ms/step - loss: 0.0138 - val_loss: 0.2293\n",
      "Epoch 2/50\n",
      "44/44 [==============================] - 1s 33ms/step - loss: 0.0162 - val_loss: 0.2005\n",
      "Epoch 3/50\n",
      "44/44 [==============================] - 1s 33ms/step - loss: 0.0183 - val_loss: 0.1081\n",
      "Epoch 4/50\n",
      "44/44 [==============================] - 1s 33ms/step - loss: 0.0336 - val_loss: 0.1045\n",
      "Epoch 5/50\n",
      "44/44 [==============================] - 2s 35ms/step - loss: 0.0329 - val_loss: 0.1571\n",
      "Epoch 6/50\n",
      "44/44 [==============================] - 1s 33ms/step - loss: 0.0187 - val_loss: 0.1837\n",
      "Epoch 7/50\n",
      "44/44 [==============================] - 2s 36ms/step - loss: 0.0059 - val_loss: 0.3650\n",
      "Epoch 8/50\n",
      "44/44 [==============================] - 2s 35ms/step - loss: 0.0045 - val_loss: 0.2384\n",
      "Epoch 9/50\n",
      "44/44 [==============================] - 2s 36ms/step - loss: 0.0033 - val_loss: 0.3627\n",
      "Epoch 10/50\n",
      "44/44 [==============================] - 2s 40ms/step - loss: 0.0027 - val_loss: 0.2971\n",
      "Epoch 11/50\n",
      "44/44 [==============================] - 2s 44ms/step - loss: 0.0031 - val_loss: 0.2546\n",
      "Epoch 12/50\n",
      "44/44 [==============================] - 2s 45ms/step - loss: 0.0040 - val_loss: 0.2723\n",
      "Epoch 13/50\n",
      "44/44 [==============================] - 2s 36ms/step - loss: 0.0020 - val_loss: 0.2373\n",
      "Epoch 14/50\n",
      "44/44 [==============================] - 2s 44ms/step - loss: 0.0019 - val_loss: 0.2093\n",
      "Epoch 15/50\n",
      "44/44 [==============================] - 2s 48ms/step - loss: 0.0017 - val_loss: 0.2056\n",
      "Epoch 16/50\n",
      "44/44 [==============================] - 2s 39ms/step - loss: 0.0022 - val_loss: 0.2123\n",
      "Epoch 17/50\n",
      "44/44 [==============================] - 2s 45ms/step - loss: 0.0019 - val_loss: 0.2079\n",
      "Epoch 18/50\n",
      "44/44 [==============================] - 2s 38ms/step - loss: 0.0016 - val_loss: 0.1747\n",
      "Epoch 19/50\n",
      "44/44 [==============================] - 2s 39ms/step - loss: 0.0014 - val_loss: 0.1704\n",
      "Epoch 20/50\n",
      "44/44 [==============================] - 2s 39ms/step - loss: 0.0019 - val_loss: 0.1812\n",
      "Epoch 21/50\n",
      "44/44 [==============================] - 2s 54ms/step - loss: 0.0012 - val_loss: 0.1921\n",
      "Epoch 22/50\n",
      "44/44 [==============================] - 2s 43ms/step - loss: 0.0019 - val_loss: 0.1489\n",
      "Epoch 23/50\n",
      "44/44 [==============================] - 2s 43ms/step - loss: 0.0011 - val_loss: 0.1639\n",
      "Epoch 24/50\n",
      "44/44 [==============================] - 2s 38ms/step - loss: 0.0014 - val_loss: 0.1729\n",
      "Epoch 25/50\n",
      "44/44 [==============================] - 2s 46ms/step - loss: 0.0011 - val_loss: 0.1538\n",
      "Epoch 26/50\n",
      "44/44 [==============================] - 2s 51ms/step - loss: 0.0011 - val_loss: 0.1442\n",
      "Epoch 27/50\n",
      "44/44 [==============================] - 2s 42ms/step - loss: 0.0011 - val_loss: 0.1350\n",
      "Epoch 28/50\n",
      "44/44 [==============================] - 2s 39ms/step - loss: 0.0012 - val_loss: 0.0982\n",
      "Epoch 29/50\n",
      "44/44 [==============================] - 2s 50ms/step - loss: 0.0013 - val_loss: 0.1205\n",
      "Epoch 30/50\n",
      "44/44 [==============================] - 2s 43ms/step - loss: 0.0015 - val_loss: 0.1088\n",
      "Epoch 31/50\n",
      "44/44 [==============================] - 2s 39ms/step - loss: 0.0015 - val_loss: 0.1523\n",
      "Epoch 32/50\n",
      "44/44 [==============================] - 2s 41ms/step - loss: 0.0043 - val_loss: 0.1401\n",
      "Epoch 33/50\n",
      "44/44 [==============================] - 2s 42ms/step - loss: 0.0032 - val_loss: 0.1653\n",
      "Epoch 34/50\n",
      "44/44 [==============================] - 2s 41ms/step - loss: 0.0017 - val_loss: 0.1650\n",
      "Epoch 35/50\n",
      "44/44 [==============================] - 2s 42ms/step - loss: 0.0025 - val_loss: 0.1498\n",
      "Epoch 36/50\n",
      "44/44 [==============================] - 2s 44ms/step - loss: 0.0023 - val_loss: 0.1763\n",
      "Epoch 37/50\n",
      "44/44 [==============================] - 2s 45ms/step - loss: 9.5337e-04 - val_loss: 0.1341\n",
      "Epoch 38/50\n",
      "44/44 [==============================] - 2s 54ms/step - loss: 7.1998e-04 - val_loss: 0.1348\n",
      "Epoch 39/50\n",
      "44/44 [==============================] - 2s 44ms/step - loss: 7.8285e-04 - val_loss: 0.1438\n",
      "Epoch 40/50\n",
      "44/44 [==============================] - 2s 39ms/step - loss: 8.7089e-04 - val_loss: 0.1434\n",
      "Epoch 41/50\n",
      "44/44 [==============================] - 2s 37ms/step - loss: 7.9840e-04 - val_loss: 0.1394\n",
      "Epoch 42/50\n",
      "44/44 [==============================] - 2s 39ms/step - loss: 7.2873e-04 - val_loss: 0.1346\n",
      "Epoch 43/50\n",
      "44/44 [==============================] - 2s 39ms/step - loss: 9.9538e-04 - val_loss: 0.1256\n",
      "Epoch 44/50\n",
      "44/44 [==============================] - 2s 40ms/step - loss: 8.3985e-04 - val_loss: 0.1297\n",
      "Epoch 45/50\n",
      "44/44 [==============================] - 2s 40ms/step - loss: 8.7934e-04 - val_loss: 0.1164\n",
      "Epoch 46/50\n",
      "44/44 [==============================] - 2s 39ms/step - loss: 9.0022e-04 - val_loss: 0.1129\n",
      "Epoch 47/50\n",
      "44/44 [==============================] - 2s 38ms/step - loss: 8.5368e-04 - val_loss: 0.1249\n",
      "Epoch 48/50\n",
      "44/44 [==============================] - 2s 38ms/step - loss: 0.0010 - val_loss: 0.1224\n",
      "Epoch 49/50\n",
      "44/44 [==============================] - 2s 39ms/step - loss: 0.0013 - val_loss: 0.0983\n",
      "Epoch 50/50\n",
      "44/44 [==============================] - 2s 39ms/step - loss: 9.7932e-04 - val_loss: 0.1214\n"
     ]
    }
   ],
   "source": [
    "history = model.fit(x_train, y_train, epochs =50, batch_size=32,\n",
    "                    validation_split=0.20, verbose=1, shuffle = False)"
   ]
  },
  {
   "cell_type": "code",
   "execution_count": 43,
   "id": "26ad0a74",
   "metadata": {},
   "outputs": [
    {
     "data": {
      "image/png": "[encoded data removed]",
      "text/plain": [
       "<Figure size 432x288 with 1 Axes>"
      ]
     },
     "metadata": {
      "needs_background": "light"
     },
     "output_type": "display_data"
    }
   ],
   "source": [
    "plt.plot(history.history['loss'], label='Training loss')\n",
    "plt.plot(history.history['val_loss'], label='Validation loss')\n",
    "plt.legend()\n",
    "plt.show()"
   ]
  },
  {
   "cell_type": "code",
   "execution_count": null,
   "id": "1eed0d2a",
   "metadata": {},
   "outputs": [],
   "source": []
  },
  {
   "cell_type": "code",
   "execution_count": 44,
   "id": "ef4dcac5",
   "metadata": {},
   "outputs": [
    {
     "data": {
      "text/plain": [
       "((427, 7, 4, 1), (427, 1, 4))"
      ]
     },
     "execution_count": 44,
     "metadata": {},
     "output_type": "execute_result"
    }
   ],
   "source": [
    "# forecast\n",
    "test_datasetEX = np.expand_dims(test_dataset, axis = 2)\n",
    "test_datasetEX.shape\n",
    "\n",
    "x_test = []\n",
    "y_test = []\n",
    "\n",
    "for i in range(n_past, len(test_dataset)-n_future+1):\n",
    "    x_test.append(test_datasetEX[i-n_past:i, 0:test_dataset.shape[1]])\n",
    "    y_test.append(test_dataset[i:i+n_future, 0:test_dataset.shape[1]])\n",
    "    \n",
    "x_test, y_test = np.array(x_test), np.array(y_test)\n",
    "x_test.shape, y_test.shape"
   ]
  },
  {
   "cell_type": "code",
   "execution_count": 45,
   "id": "33b5c4c8",
   "metadata": {},
   "outputs": [],
   "source": [
    "forecast = model.predict(x_test)"
   ]
  },
  {
   "cell_type": "code",
   "execution_count": 46,
   "id": "0b220839",
   "metadata": {},
   "outputs": [
    {
     "data": {
      "text/plain": [
       "(427, 4)"
      ]
     },
     "execution_count": 46,
     "metadata": {},
     "output_type": "execute_result"
    }
   ],
   "source": [
    "forecast.shape"
   ]
  },
  {
   "cell_type": "code",
   "execution_count": 47,
   "id": "49120fdb",
   "metadata": {},
   "outputs": [
    {
     "data": {
      "text/plain": [
       "(427, 4)"
      ]
     },
     "execution_count": 47,
     "metadata": {},
     "output_type": "execute_result"
    }
   ],
   "source": [
    "# denormalize the predicted values\n",
    "\n",
    "predicted = scaler.inverse_transform(forecast)\n",
    "predicted.shape"
   ]
  },
  {
   "cell_type": "code",
   "execution_count": 48,
   "id": "30e3620a",
   "metadata": {},
   "outputs": [],
   "source": [
    "train_unscaled = scaler.inverse_transform(y_train.reshape(-1, y_train.shape[2]))\n",
    "test_unscaled = scaler.inverse_transform(y_test.reshape(-1, y_test.shape[2]))"
   ]
  },
  {
   "cell_type": "code",
   "execution_count": 50,
   "id": "83fdac96",
   "metadata": {},
   "outputs": [
    {
     "data": {
      "text/plain": [
       "((1729, 4), (427, 4))"
      ]
     },
     "execution_count": 50,
     "metadata": {},
     "output_type": "execute_result"
    }
   ],
   "source": [
    "train_unscaled.shape,test_unscaled.shape"
   ]
  },
  {
   "cell_type": "code",
   "execution_count": 51,
   "id": "d2e96957",
   "metadata": {},
   "outputs": [
    {
     "data": {
      "image/png": "[encoded data removed]",
      "text/plain": [
       "<Figure size 1152x720 with 4 Axes>"
      ]
     },
     "metadata": {
      "needs_background": "light"
     },
     "output_type": "display_data"
    }
   ],
   "source": [
    "# Check Predictions\n",
    "\n",
    "a_axis = np.arange(0, len(y_train))\n",
    "b_axis = np.arange(len(y_train), len(y_train)+len(y_test))\n",
    "\n",
    "plt.figure(figsize=(16,10))\n",
    "plt.subplot(2,2,1)\n",
    "plt.plot(a_axis, train_unscaled[:,0], color = 'black', label ='past n1')\n",
    "plt.plot(b_axis, test_unscaled[:,0], color = 'red', alpha=0.5, label ='true n1')\n",
    "plt.plot(b_axis, predicted[:,0], color = 'green', label ='pred n1')\n",
    "plt.legend()\n",
    "\n",
    "plt.subplot(2,2,2)\n",
    "plt.plot(a_axis, train_unscaled[:,1], color = 'black', label ='past n2')\n",
    "plt.plot(b_axis, test_unscaled[:,1], color = 'red', alpha=0.5, label ='true n2')\n",
    "plt.plot(b_axis, predicted[:,1], color = 'green', label ='pred n2')\n",
    "plt.legend()\n",
    "\n",
    "plt.subplot(2,2,3)\n",
    "plt.plot(a_axis, train_unscaled[:,2], color = 'black', label ='past n3')\n",
    "plt.plot(b_axis, test_unscaled[:,2], color = 'red', alpha=0.5, label ='true n3')\n",
    "plt.plot(b_axis, predicted[:,2], color = 'green', label ='pred n3')\n",
    "plt.legend()\n",
    "\n",
    "plt.subplot(2,2,4)\n",
    "plt.plot(a_axis, train_unscaled[:,3], color = 'black', label ='past n4')\n",
    "plt.plot(b_axis, test_unscaled[:,3], color = 'red', alpha=0.5, label ='true n4')\n",
    "plt.plot(b_axis, predicted[:,3], color = 'green', label ='pred n4')\n",
    "\n",
    "plt.legend()\n",
    "\n",
    "plt.show()\n"
   ]
  },
  {
   "cell_type": "code",
   "execution_count": 52,
   "id": "53d07413",
   "metadata": {},
   "outputs": [
    {
     "name": "stdout",
     "output_type": "stream",
     "text": [
      "Test Score: 150.46 RMSE\n"
     ]
    }
   ],
   "source": [
    "import math\n",
    "\n",
    "testScore = math.sqrt(mean_squared_error(test_unscaled[:,0], predicted[:,0]))\n",
    "print('Test Score: %.2f RMSE' % (testScore))"
   ]
  },
  {
   "cell_type": "code",
   "execution_count": null,
   "id": "325f20ae",
   "metadata": {},
   "outputs": [],
   "source": []
  },
  {
   "cell_type": "code",
   "execution_count": null,
   "id": "b8afdc15",
   "metadata": {},
   "outputs": [],
   "source": []
  },
  {
   "cell_type": "code",
   "execution_count": null,
   "id": "24d86763",
   "metadata": {},
   "outputs": [],
   "source": []
  },
  {
   "cell_type": "code",
   "execution_count": null,
   "id": "bcad9e24",
   "metadata": {},
   "outputs": [],
   "source": []
  },
  {
   "cell_type": "code",
   "execution_count": null,
   "id": "c33eb374",
   "metadata": {},
   "outputs": [],
   "source": []
  },
  {
   "cell_type": "code",
   "execution_count": null,
   "id": "1f73b653",
   "metadata": {},
   "outputs": [],
   "source": [
    "\n"
   ]
  },
  {
   "cell_type": "code",
   "execution_count": null,
   "id": "294d28b3",
   "metadata": {},
   "outputs": [],
   "source": []
  },
  {
   "cell_type": "code",
   "execution_count": null,
   "id": "f8baa379",
   "metadata": {},
   "outputs": [],
   "source": []
  },
  {
   "cell_type": "code",
   "execution_count": null,
   "id": "172c367d",
   "metadata": {},
   "outputs": [],
   "source": [
    "\n"
   ]
  },
  {
   "cell_type": "code",
   "execution_count": null,
   "id": "fdfdfcb2",
   "metadata": {},
   "outputs": [],
   "source": []
  },
  {
   "cell_type": "code",
   "execution_count": null,
   "id": "0780af14",
   "metadata": {},
   "outputs": [],
   "source": []
  },
  {
   "cell_type": "code",
   "execution_count": null,
   "id": "227475c5",
   "metadata": {},
   "outputs": [],
   "source": []
  },
  {
   "cell_type": "code",
   "execution_count": null,
   "id": "1a550c49",
   "metadata": {},
   "outputs": [],
   "source": [
    "dataset[1729:1729+10]"
   ]
  },
  {
   "cell_type": "code",
   "execution_count": null,
   "id": "5ff203cc",
   "metadata": {},
   "outputs": [],
   "source": []
  },
  {
   "cell_type": "code",
   "execution_count": null,
   "id": "fea85938",
   "metadata": {},
   "outputs": [],
   "source": []
  },
  {
   "cell_type": "code",
   "execution_count": null,
   "id": "f7cedde4",
   "metadata": {},
   "outputs": [],
   "source": []
  },
  {
   "cell_type": "code",
   "execution_count": null,
   "id": "b9768289",
   "metadata": {},
   "outputs": [],
   "source": []
  },
  {
   "cell_type": "code",
   "execution_count": null,
   "id": "f31c744b",
   "metadata": {},
   "outputs": [],
   "source": []
  },
  {
   "cell_type": "code",
   "execution_count": null,
   "id": "5c38741e",
   "metadata": {},
   "outputs": [],
   "source": []
  },
  {
   "cell_type": "code",
   "execution_count": null,
   "id": "c3732409",
   "metadata": {},
   "outputs": [],
   "source": []
  },
  {
   "cell_type": "code",
   "execution_count": null,
   "id": "1ddaea1c",
   "metadata": {},
   "outputs": [],
   "source": []
  }
 ],
 "metadata": {
  "kernelspec": {
   "display_name": "Python 3",
   "language": "python",
   "name": "python3"
  },
  "language_info": {
   "codemirror_mode": {
    "name": "ipython",
    "version": 3
   },
   "file_extension": ".py",
   "mimetype": "text/x-python",
   "name": "python",
   "nbconvert_exporter": "python",
   "pygments_lexer": "ipython3",
   "version": "3.6.13"
  }
 },
 "nbformat": 4,
 "nbformat_minor": 5
}
