{
 "cells": [
  {
   "cell_type": "code",
   "execution_count": 1,
   "id": "2cfff712",
   "metadata": {},
   "outputs": [],
   "source": [
    "import os\n",
    "import math\n",
    "import pandas_datareader as web # stock values\n",
    "import numpy as np\n",
    "import pandas as pd\n",
    "import datetime as dt\n",
    "from sklearn.preprocessing import StandardScaler, MinMaxScaler\n",
    "\n",
    "from tensorflow.keras.models import Sequential\n",
    "from tensorflow.keras.layers import ConvLSTM1D, Conv2D\n",
    "from tensorflow.keras.layers import Dense, Dropout, BatchNormalization\n",
    "\n",
    "import matplotlib.pyplot as plt\n",
    "import seaborn as sns\n",
    "import warnings\n",
    "\n",
    "\n",
    "%matplotlib inline\n",
    "warnings.filterwarnings('ignore')"
   ]
  },
  {
   "cell_type": "code",
   "execution_count": 2,
   "id": "1524dbbe",
   "metadata": {},
   "outputs": [
    {
     "data": {
      "text/html": [
       "<div>\n",
       "<style scoped>\n",
       "    .dataframe tbody tr th:only-of-type {\n",
       "        vertical-align: middle;\n",
       "    }\n",
       "\n",
       "    .dataframe tbody tr th {\n",
       "        vertical-align: top;\n",
       "    }\n",
       "\n",
       "    .dataframe thead th {\n",
       "        text-align: right;\n",
       "    }\n",
       "</style>\n",
       "<table border=\"1\" class=\"dataframe\">\n",
       "  <thead>\n",
       "    <tr style=\"text-align: right;\">\n",
       "      <th></th>\n",
       "      <th>High</th>\n",
       "      <th>Low</th>\n",
       "      <th>Open</th>\n",
       "      <th>Close</th>\n",
       "      <th>Volume</th>\n",
       "      <th>Adj Close</th>\n",
       "    </tr>\n",
       "    <tr>\n",
       "      <th>Date</th>\n",
       "      <th></th>\n",
       "      <th></th>\n",
       "      <th></th>\n",
       "      <th></th>\n",
       "      <th></th>\n",
       "      <th></th>\n",
       "    </tr>\n",
       "  </thead>\n",
       "  <tbody>\n",
       "    <tr>\n",
       "      <th>2012-05-18</th>\n",
       "      <td>45.000000</td>\n",
       "      <td>38.000000</td>\n",
       "      <td>42.049999</td>\n",
       "      <td>38.230000</td>\n",
       "      <td>573576400</td>\n",
       "      <td>38.230000</td>\n",
       "    </tr>\n",
       "    <tr>\n",
       "      <th>2012-05-21</th>\n",
       "      <td>36.660000</td>\n",
       "      <td>33.000000</td>\n",
       "      <td>36.529999</td>\n",
       "      <td>34.029999</td>\n",
       "      <td>168192700</td>\n",
       "      <td>34.029999</td>\n",
       "    </tr>\n",
       "    <tr>\n",
       "      <th>2012-05-22</th>\n",
       "      <td>33.590000</td>\n",
       "      <td>30.940001</td>\n",
       "      <td>32.610001</td>\n",
       "      <td>31.000000</td>\n",
       "      <td>101786600</td>\n",
       "      <td>31.000000</td>\n",
       "    </tr>\n",
       "    <tr>\n",
       "      <th>2012-05-23</th>\n",
       "      <td>32.500000</td>\n",
       "      <td>31.360001</td>\n",
       "      <td>31.370001</td>\n",
       "      <td>32.000000</td>\n",
       "      <td>73600000</td>\n",
       "      <td>32.000000</td>\n",
       "    </tr>\n",
       "    <tr>\n",
       "      <th>2012-05-24</th>\n",
       "      <td>33.209999</td>\n",
       "      <td>31.770000</td>\n",
       "      <td>32.950001</td>\n",
       "      <td>33.029999</td>\n",
       "      <td>50237200</td>\n",
       "      <td>33.029999</td>\n",
       "    </tr>\n",
       "    <tr>\n",
       "      <th>...</th>\n",
       "      <td>...</td>\n",
       "      <td>...</td>\n",
       "      <td>...</td>\n",
       "      <td>...</td>\n",
       "      <td>...</td>\n",
       "      <td>...</td>\n",
       "    </tr>\n",
       "    <tr>\n",
       "      <th>2020-12-24</th>\n",
       "      <td>270.399994</td>\n",
       "      <td>266.200012</td>\n",
       "      <td>268.880005</td>\n",
       "      <td>267.399994</td>\n",
       "      <td>6702000</td>\n",
       "      <td>267.399994</td>\n",
       "    </tr>\n",
       "    <tr>\n",
       "      <th>2020-12-28</th>\n",
       "      <td>277.299988</td>\n",
       "      <td>265.660004</td>\n",
       "      <td>268.739990</td>\n",
       "      <td>277.000000</td>\n",
       "      <td>23299700</td>\n",
       "      <td>277.000000</td>\n",
       "    </tr>\n",
       "    <tr>\n",
       "      <th>2020-12-29</th>\n",
       "      <td>280.510010</td>\n",
       "      <td>276.279999</td>\n",
       "      <td>276.950012</td>\n",
       "      <td>276.779999</td>\n",
       "      <td>16383000</td>\n",
       "      <td>276.779999</td>\n",
       "    </tr>\n",
       "    <tr>\n",
       "      <th>2020-12-30</th>\n",
       "      <td>278.079987</td>\n",
       "      <td>271.709991</td>\n",
       "      <td>277.950012</td>\n",
       "      <td>271.869995</td>\n",
       "      <td>11803800</td>\n",
       "      <td>271.869995</td>\n",
       "    </tr>\n",
       "    <tr>\n",
       "      <th>2020-12-31</th>\n",
       "      <td>277.089996</td>\n",
       "      <td>269.809998</td>\n",
       "      <td>272.000000</td>\n",
       "      <td>273.160004</td>\n",
       "      <td>12900400</td>\n",
       "      <td>273.160004</td>\n",
       "    </tr>\n",
       "  </tbody>\n",
       "</table>\n",
       "<p>2170 rows × 6 columns</p>\n",
       "</div>"
      ],
      "text/plain": [
       "                  High         Low        Open       Close     Volume  \\\n",
       "Date                                                                    \n",
       "2012-05-18   45.000000   38.000000   42.049999   38.230000  573576400   \n",
       "2012-05-21   36.660000   33.000000   36.529999   34.029999  168192700   \n",
       "2012-05-22   33.590000   30.940001   32.610001   31.000000  101786600   \n",
       "2012-05-23   32.500000   31.360001   31.370001   32.000000   73600000   \n",
       "2012-05-24   33.209999   31.770000   32.950001   33.029999   50237200   \n",
       "...                ...         ...         ...         ...        ...   \n",
       "2020-12-24  270.399994  266.200012  268.880005  267.399994    6702000   \n",
       "2020-12-28  277.299988  265.660004  268.739990  277.000000   23299700   \n",
       "2020-12-29  280.510010  276.279999  276.950012  276.779999   16383000   \n",
       "2020-12-30  278.079987  271.709991  277.950012  271.869995   11803800   \n",
       "2020-12-31  277.089996  269.809998  272.000000  273.160004   12900400   \n",
       "\n",
       "             Adj Close  \n",
       "Date                    \n",
       "2012-05-18   38.230000  \n",
       "2012-05-21   34.029999  \n",
       "2012-05-22   31.000000  \n",
       "2012-05-23   32.000000  \n",
       "2012-05-24   33.029999  \n",
       "...                ...  \n",
       "2020-12-24  267.399994  \n",
       "2020-12-28  277.000000  \n",
       "2020-12-29  276.779999  \n",
       "2020-12-30  271.869995  \n",
       "2020-12-31  273.160004  \n",
       "\n",
       "[2170 rows x 6 columns]"
      ]
     },
     "execution_count": 2,
     "metadata": {},
     "output_type": "execute_result"
    }
   ],
   "source": [
    "company = 'FB'\n",
    "\n",
    "start = dt.datetime(2012,1,1)\n",
    "end = dt.datetime(2021,1,1)\n",
    "df = web.DataReader(company, 'yahoo', start, end)\n",
    "\n",
    "df\n"
   ]
  },
  {
   "cell_type": "code",
   "execution_count": null,
   "id": "6defdf97",
   "metadata": {},
   "outputs": [],
   "source": []
  },
  {
   "cell_type": "code",
   "execution_count": 3,
   "id": "38c26e1a",
   "metadata": {},
   "outputs": [
    {
     "data": {
      "text/plain": [
       "Text(0, 0.5, 'value')"
      ]
     },
     "execution_count": 3,
     "metadata": {},
     "output_type": "execute_result"
    },
    {
     "data": {
      "image/png": "[encoded data removed]",
      "text/plain": [
       "<Figure size 1152x648 with 1 Axes>"
      ]
     },
     "metadata": {
      "needs_background": "light"
     },
     "output_type": "display_data"
    }
   ],
   "source": [
    "plt.figure(figsize=(16, 9))\n",
    "sns.lineplot(y=df['Close'], x=range(len(df)))\n",
    "plt.xlabel('time')\n",
    "plt.ylabel('value')"
   ]
  },
  {
   "cell_type": "code",
   "execution_count": 4,
   "id": "1646aa1c",
   "metadata": {},
   "outputs": [
    {
     "data": {
      "text/html": [
       "<div>\n",
       "<style scoped>\n",
       "    .dataframe tbody tr th:only-of-type {\n",
       "        vertical-align: middle;\n",
       "    }\n",
       "\n",
       "    .dataframe tbody tr th {\n",
       "        vertical-align: top;\n",
       "    }\n",
       "\n",
       "    .dataframe thead th {\n",
       "        text-align: right;\n",
       "    }\n",
       "</style>\n",
       "<table border=\"1\" class=\"dataframe\">\n",
       "  <thead>\n",
       "    <tr style=\"text-align: right;\">\n",
       "      <th></th>\n",
       "      <th>High</th>\n",
       "      <th>Low</th>\n",
       "      <th>Open</th>\n",
       "      <th>Close</th>\n",
       "    </tr>\n",
       "    <tr>\n",
       "      <th>Date</th>\n",
       "      <th></th>\n",
       "      <th></th>\n",
       "      <th></th>\n",
       "      <th></th>\n",
       "    </tr>\n",
       "  </thead>\n",
       "  <tbody>\n",
       "    <tr>\n",
       "      <th>2012-05-18</th>\n",
       "      <td>45.000000</td>\n",
       "      <td>38.000000</td>\n",
       "      <td>42.049999</td>\n",
       "      <td>38.230000</td>\n",
       "    </tr>\n",
       "    <tr>\n",
       "      <th>2012-05-21</th>\n",
       "      <td>36.660000</td>\n",
       "      <td>33.000000</td>\n",
       "      <td>36.529999</td>\n",
       "      <td>34.029999</td>\n",
       "    </tr>\n",
       "    <tr>\n",
       "      <th>2012-05-22</th>\n",
       "      <td>33.590000</td>\n",
       "      <td>30.940001</td>\n",
       "      <td>32.610001</td>\n",
       "      <td>31.000000</td>\n",
       "    </tr>\n",
       "    <tr>\n",
       "      <th>2012-05-23</th>\n",
       "      <td>32.500000</td>\n",
       "      <td>31.360001</td>\n",
       "      <td>31.370001</td>\n",
       "      <td>32.000000</td>\n",
       "    </tr>\n",
       "    <tr>\n",
       "      <th>2012-05-24</th>\n",
       "      <td>33.209999</td>\n",
       "      <td>31.770000</td>\n",
       "      <td>32.950001</td>\n",
       "      <td>33.029999</td>\n",
       "    </tr>\n",
       "  </tbody>\n",
       "</table>\n",
       "</div>"
      ],
      "text/plain": [
       "                 High        Low       Open      Close\n",
       "Date                                                  \n",
       "2012-05-18  45.000000  38.000000  42.049999  38.230000\n",
       "2012-05-21  36.660000  33.000000  36.529999  34.029999\n",
       "2012-05-22  33.590000  30.940001  32.610001  31.000000\n",
       "2012-05-23  32.500000  31.360001  31.370001  32.000000\n",
       "2012-05-24  33.209999  31.770000  32.950001  33.029999"
      ]
     },
     "execution_count": 4,
     "metadata": {},
     "output_type": "execute_result"
    }
   ],
   "source": [
    "dataset = df[['High', 'Low', 'Open' ,'Close']].astype(float)\n",
    "dataset.head()"
   ]
  },
  {
   "cell_type": "code",
   "execution_count": 5,
   "id": "0603074e",
   "metadata": {},
   "outputs": [
    {
     "data": {
      "text/plain": [
       "['High', 'Low', 'Open', 'Close']"
      ]
     },
     "execution_count": 5,
     "metadata": {},
     "output_type": "execute_result"
    }
   ],
   "source": [
    "# multi variables\n",
    "cols = list(dataset)\n",
    "cols"
   ]
  },
  {
   "cell_type": "code",
   "execution_count": 6,
   "id": "2092e4f7",
   "metadata": {},
   "outputs": [],
   "source": [
    "# Preprocessing + reshape dataset  (time, var, values, channel=1)\n",
    "scaler =  MinMaxScaler(feature_range = (0,1))\n",
    "scaled_data = scaler.fit_transform(dataset)\n"
   ]
  },
  {
   "cell_type": "code",
   "execution_count": 7,
   "id": "4f5718ba",
   "metadata": {},
   "outputs": [],
   "source": [
    "scaled_data = np.expand_dims(scaled_data, axis = 2)\n"
   ]
  },
  {
   "cell_type": "code",
   "execution_count": 12,
   "id": "221b814f",
   "metadata": {},
   "outputs": [
    {
     "data": {
      "text/plain": [
       "(2170, 4, 1)"
      ]
     },
     "execution_count": 12,
     "metadata": {},
     "output_type": "execute_result"
    }
   ],
   "source": [
    "scaled_data.shape"
   ]
  },
  {
   "cell_type": "code",
   "execution_count": 13,
   "id": "3c7aaa16",
   "metadata": {},
   "outputs": [],
   "source": [
    "# Split train/test data\n",
    "train_dataset, test_dataset = np.vsplit(scaled_data, [int(len(dataset)*0.8)])\n"
   ]
  },
  {
   "cell_type": "code",
   "execution_count": 14,
   "id": "4314e074",
   "metadata": {},
   "outputs": [
    {
     "data": {
      "text/plain": [
       "((1736, 4, 1), (434, 4, 1))"
      ]
     },
     "execution_count": 14,
     "metadata": {},
     "output_type": "execute_result"
    }
   ],
   "source": [
    "train_dataset.shape, test_dataset.shape"
   ]
  },
  {
   "cell_type": "code",
   "execution_count": null,
   "id": "e4a058ef",
   "metadata": {},
   "outputs": [],
   "source": []
  },
  {
   "cell_type": "code",
   "execution_count": 15,
   "id": "f557dc35",
   "metadata": {},
   "outputs": [],
   "source": [
    "x_train = []\n",
    "y_train = []\n",
    "\n",
    "track = 7\n",
    "\n",
    "for i in range(track, len(train_dataset)):\n",
    "    x_train.append(train_dataset[i-track:i, 0:train_dataset.shape[1]])\n",
    "    y_train.append(train_dataset[i:i+1, 0:train_dataset.shape[1]])"
   ]
  },
  {
   "cell_type": "code",
   "execution_count": 16,
   "id": "2bd54488",
   "metadata": {},
   "outputs": [],
   "source": [
    "x_train, y_train = np.array(x_train), np.array(y_train)\n"
   ]
  },
  {
   "cell_type": "code",
   "execution_count": 17,
   "id": "b1974db3",
   "metadata": {},
   "outputs": [
    {
     "data": {
      "text/plain": [
       "((1729, 7, 4, 1), (1729, 1, 4, 1))"
      ]
     },
     "execution_count": 17,
     "metadata": {},
     "output_type": "execute_result"
    }
   ],
   "source": [
    "x_train.shape, y_train.shape # n_samples, n_timesteps, n_features, channels"
   ]
  },
  {
   "cell_type": "code",
   "execution_count": null,
   "id": "1eed0d2a",
   "metadata": {},
   "outputs": [],
   "source": []
  },
  {
   "cell_type": "code",
   "execution_count": 18,
   "id": "87dde288",
   "metadata": {},
   "outputs": [
    {
     "name": "stdout",
     "output_type": "stream",
     "text": [
      "Model: \"sequential\"\n",
      "_________________________________________________________________\n",
      "Layer (type)                 Output Shape              Param #   \n",
      "=================================================================\n",
      "conv_lst_m1d (ConvLSTM1D)    (None, None, 4, 16)       3328      \n",
      "_________________________________________________________________\n",
      "batch_normalization (BatchNo (None, None, 4, 16)       64        \n",
      "_________________________________________________________________\n",
      "conv_lst_m1d_1 (ConvLSTM1D)  (None, None, 4, 16)       6208      \n",
      "_________________________________________________________________\n",
      "batch_normalization_1 (Batch (None, None, 4, 16)       64        \n",
      "_________________________________________________________________\n",
      "conv_lst_m1d_2 (ConvLSTM1D)  (None, None, 4, 16)       6208      \n",
      "_________________________________________________________________\n",
      "batch_normalization_2 (Batch (None, None, 4, 16)       64        \n",
      "_________________________________________________________________\n",
      "conv2d (Conv2D)              (None, None, 4, 1)        145       \n",
      "=================================================================\n",
      "Total params: 16,081\n",
      "Trainable params: 15,985\n",
      "Non-trainable params: 96\n",
      "_________________________________________________________________\n"
     ]
    }
   ],
   "source": [
    "model = Sequential()\n",
    "model.add(ConvLSTM1D(filters=16, kernel_size=3, \n",
    "                     input_shape=(None, 4, 1),\n",
    "                     padding=\"same\", return_sequences=True))\n",
    "model.add(BatchNormalization())\n",
    "model.add(ConvLSTM1D(filters=16, kernel_size=3, \n",
    "                     padding=\"same\", return_sequences=True))\n",
    "model.add(BatchNormalization())\n",
    "model.add(ConvLSTM1D(filters=16, kernel_size=3, \n",
    "                     padding=\"same\", return_sequences=True))\n",
    "model.add(BatchNormalization())\n",
    "\n",
    "model.add(Conv2D(filters=1, kernel_size=(3, 3),\n",
    "               activation='sigmoid',\n",
    "               padding='same', data_format='channels_last'))\n",
    "\n",
    "model.compile(optimizer='adam', loss='mse')\n",
    "model.summary()"
   ]
  },
  {
   "cell_type": "code",
   "execution_count": 19,
   "id": "d4356267",
   "metadata": {},
   "outputs": [
    {
     "name": "stdout",
     "output_type": "stream",
     "text": [
      "Epoch 1/50\n",
      "44/44 [==============================] - 12s 58ms/step - loss: 0.0203 - val_loss: 0.0102\n",
      "Epoch 2/50\n",
      "44/44 [==============================] - 2s 41ms/step - loss: 0.0023 - val_loss: 0.0108\n",
      "Epoch 3/50\n",
      "44/44 [==============================] - 2s 39ms/step - loss: 0.0023 - val_loss: 0.0106\n",
      "Epoch 4/50\n",
      "44/44 [==============================] - 2s 47ms/step - loss: 0.0015 - val_loss: 0.0107\n",
      "Epoch 5/50\n",
      "44/44 [==============================] - 2s 45ms/step - loss: 0.0015 - val_loss: 0.0101\n",
      "Epoch 6/50\n",
      "44/44 [==============================] - 2s 42ms/step - loss: 0.0016 - val_loss: 0.0103\n",
      "Epoch 7/50\n",
      "44/44 [==============================] - 2s 38ms/step - loss: 0.0016 - val_loss: 0.0120\n",
      "Epoch 8/50\n",
      "44/44 [==============================] - 2s 38ms/step - loss: 0.0010 - val_loss: 0.0120\n",
      "Epoch 9/50\n",
      "44/44 [==============================] - 2s 39ms/step - loss: 9.8337e-04 - val_loss: 0.0119\n",
      "Epoch 10/50\n",
      "44/44 [==============================] - 2s 38ms/step - loss: 0.0011 - val_loss: 0.0136\n",
      "Epoch 11/50\n",
      "44/44 [==============================] - 2s 53ms/step - loss: 8.6359e-04 - val_loss: 0.0150\n",
      "Epoch 12/50\n",
      "44/44 [==============================] - 2s 46ms/step - loss: 7.5445e-04 - val_loss: 0.0154\n",
      "Epoch 13/50\n",
      "44/44 [==============================] - 2s 39ms/step - loss: 8.4652e-04 - val_loss: 0.0076\n",
      "Epoch 14/50\n",
      "44/44 [==============================] - 2s 40ms/step - loss: 8.0551e-04 - val_loss: 0.0039\n",
      "Epoch 15/50\n",
      "44/44 [==============================] - 2s 40ms/step - loss: 6.4396e-04 - val_loss: 0.0032\n",
      "Epoch 16/50\n",
      "44/44 [==============================] - 2s 41ms/step - loss: 6.4836e-04 - val_loss: 0.0025\n",
      "Epoch 17/50\n",
      "44/44 [==============================] - 2s 44ms/step - loss: 4.3494e-04 - val_loss: 0.0021\n",
      "Epoch 18/50\n",
      "44/44 [==============================] - 2s 48ms/step - loss: 5.7118e-04 - val_loss: 0.0015\n",
      "Epoch 19/50\n",
      "44/44 [==============================] - 2s 42ms/step - loss: 4.3733e-04 - val_loss: 0.0012\n",
      "Epoch 20/50\n",
      "44/44 [==============================] - 3s 57ms/step - loss: 3.8897e-04 - val_loss: 0.0010\n",
      "Epoch 21/50\n",
      "44/44 [==============================] - 2s 46ms/step - loss: 3.3614e-04 - val_loss: 0.0011\n",
      "Epoch 22/50\n",
      "44/44 [==============================] - 2s 43ms/step - loss: 3.4329e-04 - val_loss: 9.9058e-04\n",
      "Epoch 23/50\n",
      "44/44 [==============================] - 2s 42ms/step - loss: 4.0924e-04 - val_loss: 0.0012\n",
      "Epoch 24/50\n",
      "44/44 [==============================] - 2s 46ms/step - loss: 4.6079e-04 - val_loss: 0.0011\n",
      "Epoch 25/50\n",
      "44/44 [==============================] - 2s 41ms/step - loss: 0.0013 - val_loss: 0.0018\n",
      "Epoch 26/50\n",
      "44/44 [==============================] - 2s 42ms/step - loss: 4.9612e-04 - val_loss: 0.0011\n",
      "Epoch 27/50\n",
      "44/44 [==============================] - 2s 41ms/step - loss: 3.7878e-04 - val_loss: 0.0010\n",
      "Epoch 28/50\n",
      "44/44 [==============================] - 2s 41ms/step - loss: 3.3405e-04 - val_loss: 8.9693e-04\n",
      "Epoch 29/50\n",
      "44/44 [==============================] - 3s 60ms/step - loss: 3.3181e-04 - val_loss: 9.3944e-04\n",
      "Epoch 30/50\n",
      "44/44 [==============================] - 2s 50ms/step - loss: 2.6268e-04 - val_loss: 9.1800e-04\n",
      "Epoch 31/50\n",
      "44/44 [==============================] - 2s 48ms/step - loss: 2.6528e-04 - val_loss: 9.4010e-04\n",
      "Epoch 32/50\n",
      "44/44 [==============================] - 2s 44ms/step - loss: 2.7869e-04 - val_loss: 9.4683e-04\n",
      "Epoch 33/50\n",
      "44/44 [==============================] - 2s 42ms/step - loss: 2.7055e-04 - val_loss: 8.9934e-04\n",
      "Epoch 34/50\n",
      "44/44 [==============================] - 2s 43ms/step - loss: 2.5965e-04 - val_loss: 0.0010\n",
      "Epoch 35/50\n",
      "44/44 [==============================] - 2s 56ms/step - loss: 2.4576e-04 - val_loss: 9.1886e-04\n",
      "Epoch 36/50\n",
      "44/44 [==============================] - 2s 48ms/step - loss: 2.4766e-04 - val_loss: 8.9616e-04\n",
      "Epoch 37/50\n",
      "44/44 [==============================] - 2s 45ms/step - loss: 2.5601e-04 - val_loss: 0.0010\n",
      "Epoch 38/50\n",
      "44/44 [==============================] - 2s 50ms/step - loss: 2.4807e-04 - val_loss: 9.0400e-04\n",
      "Epoch 39/50\n",
      "44/44 [==============================] - 2s 44ms/step - loss: 3.0174e-04 - val_loss: 9.2130e-04\n",
      "Epoch 40/50\n",
      "44/44 [==============================] - 2s 48ms/step - loss: 2.6752e-04 - val_loss: 8.7730e-04\n",
      "Epoch 41/50\n",
      "44/44 [==============================] - 2s 51ms/step - loss: 3.4151e-04 - val_loss: 0.0010\n",
      "Epoch 42/50\n",
      "44/44 [==============================] - 2s 46ms/step - loss: 2.6035e-04 - val_loss: 9.6850e-04\n",
      "Epoch 43/50\n",
      "44/44 [==============================] - 2s 48ms/step - loss: 2.8774e-04 - val_loss: 9.2365e-04\n",
      "Epoch 44/50\n",
      "44/44 [==============================] - 2s 47ms/step - loss: 2.2024e-04 - val_loss: 9.3497e-04\n",
      "Epoch 45/50\n",
      "44/44 [==============================] - 2s 50ms/step - loss: 2.1603e-04 - val_loss: 8.4423e-04\n",
      "Epoch 46/50\n",
      "44/44 [==============================] - 2s 53ms/step - loss: 2.5719e-04 - val_loss: 9.0469e-04\n",
      "Epoch 47/50\n",
      "44/44 [==============================] - 2s 49ms/step - loss: 2.4813e-04 - val_loss: 9.5123e-04\n",
      "Epoch 48/50\n",
      "44/44 [==============================] - 2s 47ms/step - loss: 2.0949e-04 - val_loss: 8.5528e-04\n",
      "Epoch 49/50\n",
      "44/44 [==============================] - 2s 48ms/step - loss: 2.1040e-04 - val_loss: 8.4479e-04\n",
      "Epoch 50/50\n",
      "44/44 [==============================] - 2s 51ms/step - loss: 2.5081e-04 - val_loss: 8.7477e-04\n"
     ]
    }
   ],
   "source": [
    "history = model.fit(x_train, y_train, epochs =50, batch_size=32,\n",
    "                    validation_split=0.20, verbose=1)"
   ]
  },
  {
   "cell_type": "code",
   "execution_count": 17,
   "id": "26ad0a74",
   "metadata": {},
   "outputs": [
    {
     "data": {
      "image/png": "[encoded data removed]",
      "text/plain": [
       "<Figure size 432x288 with 1 Axes>"
      ]
     },
     "metadata": {
      "needs_background": "light"
     },
     "output_type": "display_data"
    }
   ],
   "source": [
    "plt.plot(history.history['loss'], label='Training loss')\n",
    "plt.plot(history.history['val_loss'], label='Validation loss')\n",
    "plt.legend()\n",
    "plt.show()"
   ]
  },
  {
   "cell_type": "code",
   "execution_count": 18,
   "id": "ef4dcac5",
   "metadata": {},
   "outputs": [
    {
     "data": {
      "text/plain": [
       "((427, 7, 4, 1), (427, 1, 4, 1))"
      ]
     },
     "execution_count": 18,
     "metadata": {},
     "output_type": "execute_result"
    }
   ],
   "source": [
    "# forecast\n",
    "x_test = []\n",
    "y_test = []\n",
    "\n",
    "for i in range(track, len(test_dataset)):\n",
    "    x_test.append(test_dataset[i-track:i, 0:test_dataset.shape[1]])\n",
    "    y_test.append(test_dataset[i:i+1, 0:test_dataset.shape[1]])\n",
    "    \n",
    "x_test, y_test = np.array(x_test), np.array(y_test)\n",
    "x_test.shape, y_test.shape"
   ]
  },
  {
   "cell_type": "code",
   "execution_count": 19,
   "id": "33b5c4c8",
   "metadata": {},
   "outputs": [],
   "source": [
    "forecast = model.predict(x_test)"
   ]
  },
  {
   "cell_type": "code",
   "execution_count": 20,
   "id": "83fdac96",
   "metadata": {},
   "outputs": [
    {
     "name": "stdout",
     "output_type": "stream",
     "text": [
      "Train Score:  0.00029002109658904374\n",
      "Test Score:  0.008602876216173172\n"
     ]
    }
   ],
   "source": [
    "trainScore = model.evaluate(x_train, y_train, verbose=0)\n",
    "print('Train Score: ', trainScore)\n",
    "testScore = model.evaluate(x_test, y_test, verbose=0)\n",
    "print('Test Score: ', testScore)"
   ]
  },
  {
   "cell_type": "code",
   "execution_count": 45,
   "id": "30e3620a",
   "metadata": {},
   "outputs": [
    {
     "data": {
      "text/plain": [
       "array([[0.5551636 , 0.5715507 , 0.5720476 , 0.55209786],\n",
       "       [0.57890767, 0.5838776 , 0.5822148 , 0.56536716],\n",
       "       [0.5806093 , 0.59246236, 0.5874679 , 0.5648364 ],\n",
       "       [0.57573867, 0.59357893, 0.5912197 , 0.56655025],\n",
       "       [0.5702509 , 0.5935645 , 0.5881294 , 0.5708227 ],\n",
       "       [0.5722227 , 0.59097534, 0.59090906, 0.58303624],\n",
       "       [0.5638832 , 0.59110796, 0.58585924, 0.5633087 ]], dtype=float32)"
      ]
     },
     "execution_count": 45,
     "metadata": {},
     "output_type": "execute_result"
    }
   ],
   "source": [
    "forecast_red[0,:,:]"
   ]
  },
  {
   "cell_type": "code",
   "execution_count": 26,
   "id": "49120fdb",
   "metadata": {},
   "outputs": [
    {
     "data": {
      "text/plain": [
       "(2989, 4)"
      ]
     },
     "execution_count": 26,
     "metadata": {},
     "output_type": "execute_result"
    }
   ],
   "source": [
    "# denormalize the predicted values\n",
    "forecast_red = np.squeeze(forecast, axis=3)\n",
    "\n",
    "y_pred=[]\n",
    "for i in range(len(forecast_red)):\n",
    "    y_pred.append(scaler.inverse_transform(forecast_red[i,:,:]))\n",
    "    \n",
    "y_pred = np.array(y_pred)\n",
    "\n",
    "# reshape predictions\n",
    "y_pred = np.reshape(y_pred, (-1, y_pred.shape[2]))\n",
    "\n",
    "y_pred.shape"
   ]
  },
  {
   "cell_type": "code",
   "execution_count": 49,
   "id": "325f20ae",
   "metadata": {},
   "outputs": [
    {
     "data": {
      "text/plain": [
       "array([[177.26886, 175.0122 , 179.44319, 175.72937],\n",
       "       [184.06915, 178.40828, 182.31116, 179.52678],\n",
       "       [184.5565 , 180.77338, 183.79295, 179.37488],\n",
       "       [183.16156, 181.08098, 184.85127, 179.86536],\n",
       "       [181.58986, 181.07701, 183.97955, 181.08804],\n",
       "       [182.15459, 180.3637 , 184.76364, 184.58331],\n",
       "       [179.76614, 180.40024, 183.33919, 178.9377 ],\n",
       "       [177.47122, 175.56593, 179.36087, 175.61089],\n",
       "       [184.15451, 178.52167, 182.13943, 179.03087],\n",
       "       [184.65977, 181.17528, 183.98071, 179.18651],\n",
       "       [183.46631, 181.28833, 185.6012 , 180.27892],\n",
       "       [182.19667, 181.40295, 185.06361, 181.74548],\n",
       "       [183.77525, 181.64534, 186.86217, 187.28062],\n",
       "       [180.90784, 181.75954, 185.94385, 180.18161],\n",
       "       [177.26843, 175.21234, 179.22258, 175.33084],\n",
       "       [184.16324, 178.90979, 182.45082, 179.30888],\n",
       "       [185.08817, 181.61899, 184.64954, 180.026  ],\n",
       "       [184.31404, 181.96841, 186.39131, 181.30966],\n",
       "       [184.12239, 183.6329 , 186.86658, 184.69699],\n",
       "       [185.81184, 184.06604, 189.56096, 189.21133]], dtype=float32)"
      ]
     },
     "execution_count": 49,
     "metadata": {},
     "output_type": "execute_result"
    }
   ],
   "source": [
    "y_pred[:20]"
   ]
  },
  {
   "cell_type": "code",
   "execution_count": null,
   "id": "b8afdc15",
   "metadata": {},
   "outputs": [],
   "source": []
  },
  {
   "cell_type": "code",
   "execution_count": 50,
   "id": "24d86763",
   "metadata": {},
   "outputs": [
    {
     "data": {
      "text/html": [
       "<div>\n",
       "<style scoped>\n",
       "    .dataframe tbody tr th:only-of-type {\n",
       "        vertical-align: middle;\n",
       "    }\n",
       "\n",
       "    .dataframe tbody tr th {\n",
       "        vertical-align: top;\n",
       "    }\n",
       "\n",
       "    .dataframe thead th {\n",
       "        text-align: right;\n",
       "    }\n",
       "</style>\n",
       "<table border=\"1\" class=\"dataframe\">\n",
       "  <thead>\n",
       "    <tr style=\"text-align: right;\">\n",
       "      <th></th>\n",
       "      <th>High</th>\n",
       "      <th>Low</th>\n",
       "      <th>Open</th>\n",
       "      <th>Close</th>\n",
       "    </tr>\n",
       "    <tr>\n",
       "      <th>Date</th>\n",
       "      <th></th>\n",
       "      <th></th>\n",
       "      <th></th>\n",
       "      <th></th>\n",
       "    </tr>\n",
       "  </thead>\n",
       "  <tbody>\n",
       "    <tr>\n",
       "      <th>2019-04-04</th>\n",
       "      <td>178.000000</td>\n",
       "      <td>175.529999</td>\n",
       "      <td>176.020004</td>\n",
       "      <td>176.020004</td>\n",
       "    </tr>\n",
       "    <tr>\n",
       "      <th>2019-04-05</th>\n",
       "      <td>177.000000</td>\n",
       "      <td>175.100006</td>\n",
       "      <td>176.880005</td>\n",
       "      <td>175.720001</td>\n",
       "    </tr>\n",
       "    <tr>\n",
       "      <th>2019-04-08</th>\n",
       "      <td>175.500000</td>\n",
       "      <td>174.229996</td>\n",
       "      <td>175.210007</td>\n",
       "      <td>174.929993</td>\n",
       "    </tr>\n",
       "    <tr>\n",
       "      <th>2019-04-09</th>\n",
       "      <td>179.190002</td>\n",
       "      <td>175.550003</td>\n",
       "      <td>175.619995</td>\n",
       "      <td>177.580002</td>\n",
       "    </tr>\n",
       "    <tr>\n",
       "      <th>2019-04-10</th>\n",
       "      <td>178.789993</td>\n",
       "      <td>176.539993</td>\n",
       "      <td>178.179993</td>\n",
       "      <td>177.820007</td>\n",
       "    </tr>\n",
       "    <tr>\n",
       "      <th>2019-04-11</th>\n",
       "      <td>178.399994</td>\n",
       "      <td>177.000000</td>\n",
       "      <td>178.240005</td>\n",
       "      <td>177.509995</td>\n",
       "    </tr>\n",
       "    <tr>\n",
       "      <th>2019-04-12</th>\n",
       "      <td>179.630005</td>\n",
       "      <td>177.949997</td>\n",
       "      <td>178.000000</td>\n",
       "      <td>179.100006</td>\n",
       "    </tr>\n",
       "    <tr>\n",
       "      <th>2019-04-15</th>\n",
       "      <td>180.500000</td>\n",
       "      <td>176.869995</td>\n",
       "      <td>178.500000</td>\n",
       "      <td>179.649994</td>\n",
       "    </tr>\n",
       "    <tr>\n",
       "      <th>2019-04-16</th>\n",
       "      <td>180.169998</td>\n",
       "      <td>178.300003</td>\n",
       "      <td>179.000000</td>\n",
       "      <td>178.869995</td>\n",
       "    </tr>\n",
       "    <tr>\n",
       "      <th>2019-04-17</th>\n",
       "      <td>180.740005</td>\n",
       "      <td>178.360001</td>\n",
       "      <td>179.600006</td>\n",
       "      <td>178.779999</td>\n",
       "    </tr>\n",
       "    <tr>\n",
       "      <th>2019-04-18</th>\n",
       "      <td>178.880005</td>\n",
       "      <td>177.339996</td>\n",
       "      <td>178.800003</td>\n",
       "      <td>178.279999</td>\n",
       "    </tr>\n",
       "    <tr>\n",
       "      <th>2019-04-22</th>\n",
       "      <td>181.669998</td>\n",
       "      <td>178.250000</td>\n",
       "      <td>178.250000</td>\n",
       "      <td>181.440002</td>\n",
       "    </tr>\n",
       "    <tr>\n",
       "      <th>2019-04-23</th>\n",
       "      <td>184.220001</td>\n",
       "      <td>181.479996</td>\n",
       "      <td>182.740005</td>\n",
       "      <td>183.779999</td>\n",
       "    </tr>\n",
       "    <tr>\n",
       "      <th>2019-04-24</th>\n",
       "      <td>185.139999</td>\n",
       "      <td>181.649994</td>\n",
       "      <td>184.490005</td>\n",
       "      <td>182.580002</td>\n",
       "    </tr>\n",
       "    <tr>\n",
       "      <th>2019-04-25</th>\n",
       "      <td>198.479996</td>\n",
       "      <td>192.119995</td>\n",
       "      <td>196.979996</td>\n",
       "      <td>193.259995</td>\n",
       "    </tr>\n",
       "    <tr>\n",
       "      <th>2019-04-26</th>\n",
       "      <td>192.899994</td>\n",
       "      <td>189.089996</td>\n",
       "      <td>192.500000</td>\n",
       "      <td>191.490005</td>\n",
       "    </tr>\n",
       "    <tr>\n",
       "      <th>2019-04-29</th>\n",
       "      <td>195.410004</td>\n",
       "      <td>190.649994</td>\n",
       "      <td>190.949997</td>\n",
       "      <td>194.779999</td>\n",
       "    </tr>\n",
       "    <tr>\n",
       "      <th>2019-04-30</th>\n",
       "      <td>197.389999</td>\n",
       "      <td>192.279999</td>\n",
       "      <td>194.190002</td>\n",
       "      <td>193.399994</td>\n",
       "    </tr>\n",
       "    <tr>\n",
       "      <th>2019-05-01</th>\n",
       "      <td>196.179993</td>\n",
       "      <td>193.009995</td>\n",
       "      <td>194.779999</td>\n",
       "      <td>193.029999</td>\n",
       "    </tr>\n",
       "    <tr>\n",
       "      <th>2019-05-02</th>\n",
       "      <td>194.000000</td>\n",
       "      <td>189.750000</td>\n",
       "      <td>193.000000</td>\n",
       "      <td>192.529999</td>\n",
       "    </tr>\n",
       "  </tbody>\n",
       "</table>\n",
       "</div>"
      ],
      "text/plain": [
       "                  High         Low        Open       Close\n",
       "Date                                                      \n",
       "2019-04-04  178.000000  175.529999  176.020004  176.020004\n",
       "2019-04-05  177.000000  175.100006  176.880005  175.720001\n",
       "2019-04-08  175.500000  174.229996  175.210007  174.929993\n",
       "2019-04-09  179.190002  175.550003  175.619995  177.580002\n",
       "2019-04-10  178.789993  176.539993  178.179993  177.820007\n",
       "2019-04-11  178.399994  177.000000  178.240005  177.509995\n",
       "2019-04-12  179.630005  177.949997  178.000000  179.100006\n",
       "2019-04-15  180.500000  176.869995  178.500000  179.649994\n",
       "2019-04-16  180.169998  178.300003  179.000000  178.869995\n",
       "2019-04-17  180.740005  178.360001  179.600006  178.779999\n",
       "2019-04-18  178.880005  177.339996  178.800003  178.279999\n",
       "2019-04-22  181.669998  178.250000  178.250000  181.440002\n",
       "2019-04-23  184.220001  181.479996  182.740005  183.779999\n",
       "2019-04-24  185.139999  181.649994  184.490005  182.580002\n",
       "2019-04-25  198.479996  192.119995  196.979996  193.259995\n",
       "2019-04-26  192.899994  189.089996  192.500000  191.490005\n",
       "2019-04-29  195.410004  190.649994  190.949997  194.779999\n",
       "2019-04-30  197.389999  192.279999  194.190002  193.399994\n",
       "2019-05-01  196.179993  193.009995  194.779999  193.029999\n",
       "2019-05-02  194.000000  189.750000  193.000000  192.529999"
      ]
     },
     "execution_count": 50,
     "metadata": {},
     "output_type": "execute_result"
    }
   ],
   "source": [
    "dataset[1729:1729+20]"
   ]
  },
  {
   "cell_type": "code",
   "execution_count": 38,
   "id": "d2e96957",
   "metadata": {},
   "outputs": [
    {
     "data": {
      "image/png": "[encoded data removed]",
      "text/plain": [
       "<Figure size 1152x720 with 4 Axes>"
      ]
     },
     "metadata": {
      "needs_background": "light"
     },
     "output_type": "display_data"
    }
   ],
   "source": [
    "# Check Predictions\n",
    "original = np.array(dataset[1729:1729+50])\n",
    "\n",
    "plt.figure(figsize=(16,10))\n",
    "plt.subplot(2,2,1)\n",
    "plt.plot(range(len(original)), original[:,0], color = 'black', label ='n1')\n",
    "plt.plot(range(len(original)), y_pred[:len(original),0], color = 'green', label ='pred n1')\n",
    "\n",
    "\n",
    "plt.subplot(2,2,2)\n",
    "plt.plot(range(len(original)), original[:,1], color = 'black', label ='n2')\n",
    "plt.plot(range(len(original)), y_pred[:len(original),1], color = 'green', label ='pred n2')\n",
    "\n",
    "\n",
    "plt.subplot(2,2,3)\n",
    "plt.plot(range(len(original)), original[:,2], color = 'black', label ='n3')\n",
    "plt.plot(range(len(original)), y_pred[:len(original),2], color = 'green', label ='pred n3')\n",
    "plt.legend()\n",
    "plt.subplot(2,2,4)\n",
    "plt.plot(range(len(original)), original[:,3], color = 'black', label ='n4')\n",
    "plt.plot(range(len(original)), y_pred[:len(original),3], color = 'green', label ='pred n4')\n",
    "plt.legend()\n",
    "\n",
    "plt.show()"
   ]
  },
  {
   "cell_type": "code",
   "execution_count": null,
   "id": "53d07413",
   "metadata": {},
   "outputs": [],
   "source": []
  },
  {
   "cell_type": "code",
   "execution_count": null,
   "id": "bcad9e24",
   "metadata": {},
   "outputs": [],
   "source": []
  },
  {
   "cell_type": "code",
   "execution_count": null,
   "id": "c33eb374",
   "metadata": {},
   "outputs": [],
   "source": []
  },
  {
   "cell_type": "code",
   "execution_count": null,
   "id": "1f73b653",
   "metadata": {},
   "outputs": [],
   "source": [
    "\n"
   ]
  },
  {
   "cell_type": "code",
   "execution_count": null,
   "id": "294d28b3",
   "metadata": {},
   "outputs": [],
   "source": []
  },
  {
   "cell_type": "code",
   "execution_count": null,
   "id": "f8baa379",
   "metadata": {},
   "outputs": [],
   "source": [
    "# Check Predictions\n",
    "dataset_exp = np.expand_dims(dataset, axis = 1)\n",
    "original = dataset_exp[1729:]"
   ]
  },
  {
   "cell_type": "code",
   "execution_count": null,
   "id": "172c367d",
   "metadata": {},
   "outputs": [],
   "source": [
    "\n",
    "original.shape\n"
   ]
  },
  {
   "cell_type": "code",
   "execution_count": null,
   "id": "fdfdfcb2",
   "metadata": {},
   "outputs": [],
   "source": [
    "y_pred.shape"
   ]
  },
  {
   "cell_type": "code",
   "execution_count": null,
   "id": "0780af14",
   "metadata": {},
   "outputs": [],
   "source": []
  },
  {
   "cell_type": "code",
   "execution_count": null,
   "id": "227475c5",
   "metadata": {},
   "outputs": [],
   "source": [
    "dataset.shape"
   ]
  },
  {
   "cell_type": "code",
   "execution_count": null,
   "id": "1a550c49",
   "metadata": {},
   "outputs": [],
   "source": [
    "dataset[1729:1729+10]"
   ]
  },
  {
   "cell_type": "code",
   "execution_count": null,
   "id": "5ff203cc",
   "metadata": {},
   "outputs": [],
   "source": [
    "y_pred[:1]"
   ]
  },
  {
   "cell_type": "code",
   "execution_count": null,
   "id": "fea85938",
   "metadata": {},
   "outputs": [],
   "source": []
  },
  {
   "cell_type": "code",
   "execution_count": null,
   "id": "f7cedde4",
   "metadata": {},
   "outputs": [],
   "source": []
  },
  {
   "cell_type": "code",
   "execution_count": null,
   "id": "b9768289",
   "metadata": {},
   "outputs": [],
   "source": []
  },
  {
   "cell_type": "code",
   "execution_count": null,
   "id": "f31c744b",
   "metadata": {},
   "outputs": [],
   "source": [
    "# plotting\n",
    "\n",
    "plt.plot()"
   ]
  },
  {
   "cell_type": "code",
   "execution_count": null,
   "id": "5c38741e",
   "metadata": {},
   "outputs": [],
   "source": []
  },
  {
   "cell_type": "code",
   "execution_count": null,
   "id": "c3732409",
   "metadata": {},
   "outputs": [],
   "source": []
  },
  {
   "cell_type": "code",
   "execution_count": null,
   "id": "1ddaea1c",
   "metadata": {},
   "outputs": [],
   "source": []
  }
 ],
 "metadata": {
  "kernelspec": {
   "display_name": "Python 3",
   "language": "python",
   "name": "python3"
  },
  "language_info": {
   "codemirror_mode": {
    "name": "ipython",
    "version": 3
   },
   "file_extension": ".py",
   "mimetype": "text/x-python",
   "name": "python",
   "nbconvert_exporter": "python",
   "pygments_lexer": "ipython3",
   "version": "3.6.13"
  }
 },
 "nbformat": 4,
 "nbformat_minor": 5
}
