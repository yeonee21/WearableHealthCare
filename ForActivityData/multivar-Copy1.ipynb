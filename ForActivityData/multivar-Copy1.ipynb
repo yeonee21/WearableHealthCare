{
 "cells": [
  {
   "cell_type": "code",
   "execution_count": 129,
   "id": "2cfff712",
   "metadata": {},
   "outputs": [],
   "source": [
    "import os\n",
    "import math\n",
    "import pandas_datareader as web # stock values\n",
    "import numpy as np\n",
    "import pandas as pd\n",
    "import datetime as dt\n",
    "from sklearn.preprocessing import StandardScaler, MinMaxScaler\n",
    "from sklearn.metrics import mean_squared_error\n",
    "\n",
    "\n",
    "from tensorflow.keras.models import Sequential\n",
    "from tensorflow.keras.layers import LSTM, ConvLSTM1D, Conv2D, Conv1D\n",
    "from tensorflow.keras.layers import TimeDistributed, Dense, Dropout, BatchNormalization\n",
    "\n",
    "import matplotlib.pyplot as plt\n",
    "import seaborn as sns\n",
    "import warnings\n",
    "\n",
    "\n",
    "%matplotlib inline\n",
    "warnings.filterwarnings('ignore')"
   ]
  },
  {
   "cell_type": "code",
   "execution_count": 130,
   "id": "1524dbbe",
   "metadata": {},
   "outputs": [
    {
     "data": {
      "text/html": [
       "<div>\n",
       "<style scoped>\n",
       "    .dataframe tbody tr th:only-of-type {\n",
       "        vertical-align: middle;\n",
       "    }\n",
       "\n",
       "    .dataframe tbody tr th {\n",
       "        vertical-align: top;\n",
       "    }\n",
       "\n",
       "    .dataframe thead th {\n",
       "        text-align: right;\n",
       "    }\n",
       "</style>\n",
       "<table border=\"1\" class=\"dataframe\">\n",
       "  <thead>\n",
       "    <tr style=\"text-align: right;\">\n",
       "      <th></th>\n",
       "      <th>High</th>\n",
       "      <th>Low</th>\n",
       "      <th>Open</th>\n",
       "      <th>Close</th>\n",
       "      <th>Volume</th>\n",
       "      <th>Adj Close</th>\n",
       "    </tr>\n",
       "    <tr>\n",
       "      <th>Date</th>\n",
       "      <th></th>\n",
       "      <th></th>\n",
       "      <th></th>\n",
       "      <th></th>\n",
       "      <th></th>\n",
       "      <th></th>\n",
       "    </tr>\n",
       "  </thead>\n",
       "  <tbody>\n",
       "    <tr>\n",
       "      <th>2012-05-18</th>\n",
       "      <td>45.000000</td>\n",
       "      <td>38.000000</td>\n",
       "      <td>42.049999</td>\n",
       "      <td>38.230000</td>\n",
       "      <td>573576400</td>\n",
       "      <td>38.230000</td>\n",
       "    </tr>\n",
       "    <tr>\n",
       "      <th>2012-05-21</th>\n",
       "      <td>36.660000</td>\n",
       "      <td>33.000000</td>\n",
       "      <td>36.529999</td>\n",
       "      <td>34.029999</td>\n",
       "      <td>168192700</td>\n",
       "      <td>34.029999</td>\n",
       "    </tr>\n",
       "    <tr>\n",
       "      <th>2012-05-22</th>\n",
       "      <td>33.590000</td>\n",
       "      <td>30.940001</td>\n",
       "      <td>32.610001</td>\n",
       "      <td>31.000000</td>\n",
       "      <td>101786600</td>\n",
       "      <td>31.000000</td>\n",
       "    </tr>\n",
       "    <tr>\n",
       "      <th>2012-05-23</th>\n",
       "      <td>32.500000</td>\n",
       "      <td>31.360001</td>\n",
       "      <td>31.370001</td>\n",
       "      <td>32.000000</td>\n",
       "      <td>73600000</td>\n",
       "      <td>32.000000</td>\n",
       "    </tr>\n",
       "    <tr>\n",
       "      <th>2012-05-24</th>\n",
       "      <td>33.209999</td>\n",
       "      <td>31.770000</td>\n",
       "      <td>32.950001</td>\n",
       "      <td>33.029999</td>\n",
       "      <td>50237200</td>\n",
       "      <td>33.029999</td>\n",
       "    </tr>\n",
       "    <tr>\n",
       "      <th>...</th>\n",
       "      <td>...</td>\n",
       "      <td>...</td>\n",
       "      <td>...</td>\n",
       "      <td>...</td>\n",
       "      <td>...</td>\n",
       "      <td>...</td>\n",
       "    </tr>\n",
       "    <tr>\n",
       "      <th>2020-12-24</th>\n",
       "      <td>270.399994</td>\n",
       "      <td>266.200012</td>\n",
       "      <td>268.880005</td>\n",
       "      <td>267.399994</td>\n",
       "      <td>6702000</td>\n",
       "      <td>267.399994</td>\n",
       "    </tr>\n",
       "    <tr>\n",
       "      <th>2020-12-28</th>\n",
       "      <td>277.299988</td>\n",
       "      <td>265.660004</td>\n",
       "      <td>268.739990</td>\n",
       "      <td>277.000000</td>\n",
       "      <td>23299700</td>\n",
       "      <td>277.000000</td>\n",
       "    </tr>\n",
       "    <tr>\n",
       "      <th>2020-12-29</th>\n",
       "      <td>280.510010</td>\n",
       "      <td>276.279999</td>\n",
       "      <td>276.950012</td>\n",
       "      <td>276.779999</td>\n",
       "      <td>16383000</td>\n",
       "      <td>276.779999</td>\n",
       "    </tr>\n",
       "    <tr>\n",
       "      <th>2020-12-30</th>\n",
       "      <td>278.079987</td>\n",
       "      <td>271.709991</td>\n",
       "      <td>277.950012</td>\n",
       "      <td>271.869995</td>\n",
       "      <td>11803800</td>\n",
       "      <td>271.869995</td>\n",
       "    </tr>\n",
       "    <tr>\n",
       "      <th>2020-12-31</th>\n",
       "      <td>277.089996</td>\n",
       "      <td>269.809998</td>\n",
       "      <td>272.000000</td>\n",
       "      <td>273.160004</td>\n",
       "      <td>12900400</td>\n",
       "      <td>273.160004</td>\n",
       "    </tr>\n",
       "  </tbody>\n",
       "</table>\n",
       "<p>2170 rows × 6 columns</p>\n",
       "</div>"
      ],
      "text/plain": [
       "                  High         Low        Open       Close     Volume  \\\n",
       "Date                                                                    \n",
       "2012-05-18   45.000000   38.000000   42.049999   38.230000  573576400   \n",
       "2012-05-21   36.660000   33.000000   36.529999   34.029999  168192700   \n",
       "2012-05-22   33.590000   30.940001   32.610001   31.000000  101786600   \n",
       "2012-05-23   32.500000   31.360001   31.370001   32.000000   73600000   \n",
       "2012-05-24   33.209999   31.770000   32.950001   33.029999   50237200   \n",
       "...                ...         ...         ...         ...        ...   \n",
       "2020-12-24  270.399994  266.200012  268.880005  267.399994    6702000   \n",
       "2020-12-28  277.299988  265.660004  268.739990  277.000000   23299700   \n",
       "2020-12-29  280.510010  276.279999  276.950012  276.779999   16383000   \n",
       "2020-12-30  278.079987  271.709991  277.950012  271.869995   11803800   \n",
       "2020-12-31  277.089996  269.809998  272.000000  273.160004   12900400   \n",
       "\n",
       "             Adj Close  \n",
       "Date                    \n",
       "2012-05-18   38.230000  \n",
       "2012-05-21   34.029999  \n",
       "2012-05-22   31.000000  \n",
       "2012-05-23   32.000000  \n",
       "2012-05-24   33.029999  \n",
       "...                ...  \n",
       "2020-12-24  267.399994  \n",
       "2020-12-28  277.000000  \n",
       "2020-12-29  276.779999  \n",
       "2020-12-30  271.869995  \n",
       "2020-12-31  273.160004  \n",
       "\n",
       "[2170 rows x 6 columns]"
      ]
     },
     "execution_count": 130,
     "metadata": {},
     "output_type": "execute_result"
    }
   ],
   "source": [
    "company = 'FB'\n",
    "\n",
    "start = dt.datetime(2012,1,1)\n",
    "end = dt.datetime(2021,1,1)\n",
    "df = web.DataReader(company, 'yahoo', start, end)\n",
    "\n",
    "df\n"
   ]
  },
  {
   "cell_type": "code",
   "execution_count": 131,
   "id": "1646aa1c",
   "metadata": {},
   "outputs": [
    {
     "data": {
      "text/html": [
       "<div>\n",
       "<style scoped>\n",
       "    .dataframe tbody tr th:only-of-type {\n",
       "        vertical-align: middle;\n",
       "    }\n",
       "\n",
       "    .dataframe tbody tr th {\n",
       "        vertical-align: top;\n",
       "    }\n",
       "\n",
       "    .dataframe thead th {\n",
       "        text-align: right;\n",
       "    }\n",
       "</style>\n",
       "<table border=\"1\" class=\"dataframe\">\n",
       "  <thead>\n",
       "    <tr style=\"text-align: right;\">\n",
       "      <th></th>\n",
       "      <th>High</th>\n",
       "      <th>Low</th>\n",
       "      <th>Open</th>\n",
       "      <th>Close</th>\n",
       "    </tr>\n",
       "    <tr>\n",
       "      <th>Date</th>\n",
       "      <th></th>\n",
       "      <th></th>\n",
       "      <th></th>\n",
       "      <th></th>\n",
       "    </tr>\n",
       "  </thead>\n",
       "  <tbody>\n",
       "    <tr>\n",
       "      <th>2012-05-18</th>\n",
       "      <td>45.000000</td>\n",
       "      <td>38.000000</td>\n",
       "      <td>42.049999</td>\n",
       "      <td>38.230000</td>\n",
       "    </tr>\n",
       "    <tr>\n",
       "      <th>2012-05-21</th>\n",
       "      <td>36.660000</td>\n",
       "      <td>33.000000</td>\n",
       "      <td>36.529999</td>\n",
       "      <td>34.029999</td>\n",
       "    </tr>\n",
       "    <tr>\n",
       "      <th>2012-05-22</th>\n",
       "      <td>33.590000</td>\n",
       "      <td>30.940001</td>\n",
       "      <td>32.610001</td>\n",
       "      <td>31.000000</td>\n",
       "    </tr>\n",
       "    <tr>\n",
       "      <th>2012-05-23</th>\n",
       "      <td>32.500000</td>\n",
       "      <td>31.360001</td>\n",
       "      <td>31.370001</td>\n",
       "      <td>32.000000</td>\n",
       "    </tr>\n",
       "    <tr>\n",
       "      <th>2012-05-24</th>\n",
       "      <td>33.209999</td>\n",
       "      <td>31.770000</td>\n",
       "      <td>32.950001</td>\n",
       "      <td>33.029999</td>\n",
       "    </tr>\n",
       "  </tbody>\n",
       "</table>\n",
       "</div>"
      ],
      "text/plain": [
       "                 High        Low       Open      Close\n",
       "Date                                                  \n",
       "2012-05-18  45.000000  38.000000  42.049999  38.230000\n",
       "2012-05-21  36.660000  33.000000  36.529999  34.029999\n",
       "2012-05-22  33.590000  30.940001  32.610001  31.000000\n",
       "2012-05-23  32.500000  31.360001  31.370001  32.000000\n",
       "2012-05-24  33.209999  31.770000  32.950001  33.029999"
      ]
     },
     "execution_count": 131,
     "metadata": {},
     "output_type": "execute_result"
    }
   ],
   "source": [
    "dataset = df[['High', 'Low', 'Open' ,'Close']].astype(float)\n",
    "dataset.head()"
   ]
  },
  {
   "cell_type": "code",
   "execution_count": 132,
   "id": "6defdf97",
   "metadata": {},
   "outputs": [
    {
     "data": {
      "text/plain": [
       "array([<AxesSubplot:xlabel='Date'>, <AxesSubplot:xlabel='Date'>,\n",
       "       <AxesSubplot:xlabel='Date'>, <AxesSubplot:xlabel='Date'>],\n",
       "      dtype=object)"
      ]
     },
     "execution_count": 132,
     "metadata": {},
     "output_type": "execute_result"
    },
    {
     "data": {
      "image/png": "[encoded data removed]",
      "text/plain": [
       "<Figure size 432x288 with 4 Axes>"
      ]
     },
     "metadata": {
      "needs_background": "light"
     },
     "output_type": "display_data"
    }
   ],
   "source": [
    "dataset.plot(subplots=True)"
   ]
  },
  {
   "cell_type": "code",
   "execution_count": 133,
   "id": "0603074e",
   "metadata": {},
   "outputs": [
    {
     "data": {
      "text/plain": [
       "['High', 'Low', 'Open', 'Close']"
      ]
     },
     "execution_count": 133,
     "metadata": {},
     "output_type": "execute_result"
    }
   ],
   "source": [
    "# multi variables\n",
    "cols = list(dataset)\n",
    "cols"
   ]
  },
  {
   "cell_type": "code",
   "execution_count": 134,
   "id": "2092e4f7",
   "metadata": {},
   "outputs": [],
   "source": [
    "# Preprocessing + reshape dataset  (time, var, values, channel=1)\n",
    "scaler =  MinMaxScaler(feature_range = (0,1))\n",
    "scaled_data = scaler.fit_transform(dataset.values.reshape(-1, len(cols)))"
   ]
  },
  {
   "cell_type": "code",
   "execution_count": 135,
   "id": "38c26e1a",
   "metadata": {},
   "outputs": [
    {
     "data": {
      "text/html": [
       "<div>\n",
       "<style scoped>\n",
       "    .dataframe tbody tr th:only-of-type {\n",
       "        vertical-align: middle;\n",
       "    }\n",
       "\n",
       "    .dataframe tbody tr th {\n",
       "        vertical-align: top;\n",
       "    }\n",
       "\n",
       "    .dataframe thead th {\n",
       "        text-align: right;\n",
       "    }\n",
       "</style>\n",
       "<table border=\"1\" class=\"dataframe\">\n",
       "  <thead>\n",
       "    <tr style=\"text-align: right;\">\n",
       "      <th></th>\n",
       "      <th>High</th>\n",
       "      <th>Low</th>\n",
       "      <th>Open</th>\n",
       "      <th>Close</th>\n",
       "    </tr>\n",
       "  </thead>\n",
       "  <tbody>\n",
       "    <tr>\n",
       "      <th>0</th>\n",
       "      <td>0.093331</td>\n",
       "      <td>0.074229</td>\n",
       "      <td>0.084976</td>\n",
       "      <td>0.071633</td>\n",
       "    </tr>\n",
       "    <tr>\n",
       "      <th>1</th>\n",
       "      <td>0.064211</td>\n",
       "      <td>0.056080</td>\n",
       "      <td>0.065407</td>\n",
       "      <td>0.056957</td>\n",
       "    </tr>\n",
       "    <tr>\n",
       "      <th>2</th>\n",
       "      <td>0.053492</td>\n",
       "      <td>0.048603</td>\n",
       "      <td>0.051510</td>\n",
       "      <td>0.046369</td>\n",
       "    </tr>\n",
       "    <tr>\n",
       "      <th>3</th>\n",
       "      <td>0.049686</td>\n",
       "      <td>0.050127</td>\n",
       "      <td>0.047114</td>\n",
       "      <td>0.049864</td>\n",
       "    </tr>\n",
       "    <tr>\n",
       "      <th>4</th>\n",
       "      <td>0.052165</td>\n",
       "      <td>0.051615</td>\n",
       "      <td>0.052716</td>\n",
       "      <td>0.053463</td>\n",
       "    </tr>\n",
       "  </tbody>\n",
       "</table>\n",
       "</div>"
      ],
      "text/plain": [
       "       High       Low      Open     Close\n",
       "0  0.093331  0.074229  0.084976  0.071633\n",
       "1  0.064211  0.056080  0.065407  0.056957\n",
       "2  0.053492  0.048603  0.051510  0.046369\n",
       "3  0.049686  0.050127  0.047114  0.049864\n",
       "4  0.052165  0.051615  0.052716  0.053463"
      ]
     },
     "metadata": {},
     "output_type": "display_data"
    }
   ],
   "source": [
    "display(pd.DataFrame(scaled_data, columns = cols).head())"
   ]
  },
  {
   "cell_type": "code",
   "execution_count": 136,
   "id": "366e2c56",
   "metadata": {},
   "outputs": [
    {
     "data": {
      "text/plain": [
       "<matplotlib.legend.Legend at 0x7ff09b3a1cf8>"
      ]
     },
     "execution_count": 136,
     "metadata": {},
     "output_type": "execute_result"
    },
    {
     "data": {
      "image/png": "[encoded data removed]",
      "text/plain": [
       "<Figure size 432x288 with 1 Axes>"
      ]
     },
     "metadata": {
      "needs_background": "light"
     },
     "output_type": "display_data"
    }
   ],
   "source": [
    "sns.lineplot(data=pd.DataFrame(scaled_data))\n",
    "plt.legend(labels=cols)"
   ]
  },
  {
   "cell_type": "code",
   "execution_count": 137,
   "id": "221b814f",
   "metadata": {},
   "outputs": [
    {
     "data": {
      "text/plain": [
       "(2170, 4)"
      ]
     },
     "execution_count": 137,
     "metadata": {},
     "output_type": "execute_result"
    }
   ],
   "source": [
    "scaled_data.shape"
   ]
  },
  {
   "cell_type": "code",
   "execution_count": 138,
   "id": "3c7aaa16",
   "metadata": {},
   "outputs": [],
   "source": [
    "# Split train/test data\n",
    "train_dataset, test_dataset = np.vsplit(scaled_data, [int(len(dataset)*0.8)])\n"
   ]
  },
  {
   "cell_type": "code",
   "execution_count": 139,
   "id": "4314e074",
   "metadata": {},
   "outputs": [
    {
     "data": {
      "text/plain": [
       "((1736, 4), (434, 4))"
      ]
     },
     "execution_count": 139,
     "metadata": {},
     "output_type": "execute_result"
    }
   ],
   "source": [
    "train_dataset.shape, test_dataset.shape"
   ]
  },
  {
   "cell_type": "code",
   "execution_count": 145,
   "id": "0ca276d0",
   "metadata": {},
   "outputs": [
    {
     "data": {
      "text/html": [
       "<div>\n",
       "<style scoped>\n",
       "    .dataframe tbody tr th:only-of-type {\n",
       "        vertical-align: middle;\n",
       "    }\n",
       "\n",
       "    .dataframe tbody tr th {\n",
       "        vertical-align: top;\n",
       "    }\n",
       "\n",
       "    .dataframe thead th {\n",
       "        text-align: right;\n",
       "    }\n",
       "</style>\n",
       "<table border=\"1\" class=\"dataframe\">\n",
       "  <thead>\n",
       "    <tr style=\"text-align: right;\">\n",
       "      <th></th>\n",
       "      <th>High</th>\n",
       "      <th>Low</th>\n",
       "      <th>Open</th>\n",
       "      <th>Close</th>\n",
       "    </tr>\n",
       "  </thead>\n",
       "  <tbody>\n",
       "    <tr>\n",
       "      <th>0</th>\n",
       "      <td>0.093331</td>\n",
       "      <td>0.074229</td>\n",
       "      <td>0.084976</td>\n",
       "      <td>0.071633</td>\n",
       "    </tr>\n",
       "    <tr>\n",
       "      <th>1</th>\n",
       "      <td>0.064211</td>\n",
       "      <td>0.056080</td>\n",
       "      <td>0.065407</td>\n",
       "      <td>0.056957</td>\n",
       "    </tr>\n",
       "    <tr>\n",
       "      <th>2</th>\n",
       "      <td>0.053492</td>\n",
       "      <td>0.048603</td>\n",
       "      <td>0.051510</td>\n",
       "      <td>0.046369</td>\n",
       "    </tr>\n",
       "    <tr>\n",
       "      <th>3</th>\n",
       "      <td>0.049686</td>\n",
       "      <td>0.050127</td>\n",
       "      <td>0.047114</td>\n",
       "      <td>0.049864</td>\n",
       "    </tr>\n",
       "    <tr>\n",
       "      <th>4</th>\n",
       "      <td>0.052165</td>\n",
       "      <td>0.051615</td>\n",
       "      <td>0.052716</td>\n",
       "      <td>0.053463</td>\n",
       "    </tr>\n",
       "  </tbody>\n",
       "</table>\n",
       "</div>"
      ],
      "text/plain": [
       "       High       Low      Open     Close\n",
       "0  0.093331  0.074229  0.084976  0.071633\n",
       "1  0.064211  0.056080  0.065407  0.056957\n",
       "2  0.053492  0.048603  0.051510  0.046369\n",
       "3  0.049686  0.050127  0.047114  0.049864\n",
       "4  0.052165  0.051615  0.052716  0.053463"
      ]
     },
     "metadata": {},
     "output_type": "display_data"
    }
   ],
   "source": [
    "display(pd.DataFrame(train_dataset, columns = cols).head())\n"
   ]
  },
  {
   "cell_type": "code",
   "execution_count": 147,
   "id": "f557dc35",
   "metadata": {},
   "outputs": [],
   "source": [
    "x_train = []\n",
    "y_train = []\n",
    "\n",
    "n_past = 20 # Number of past days(time) we want to use to predict future.\n",
    "n_future = 1 # Number of futures days(time) predict\n",
    "\n",
    "for i in range(n_past, len(train_dataset)- n_future+1):\n",
    "    x_train.append(train_dataset[i-n_past:i, 0:train_dataset.shape[1]])\n",
    "    y_train.append(train_dataset[i+n_future-1:i+n_future, 0:train_dataset.shape[1]])"
   ]
  },
  {
   "cell_type": "code",
   "execution_count": 150,
   "id": "2bd54488",
   "metadata": {},
   "outputs": [],
   "source": [
    "x_train, y_train = np.array(x_train), np.array(y_train)\n"
   ]
  },
  {
   "cell_type": "code",
   "execution_count": 151,
   "id": "b1974db3",
   "metadata": {},
   "outputs": [
    {
     "data": {
      "text/plain": [
       "((1710, 20, 4), (1710, 1, 4))"
      ]
     },
     "execution_count": 151,
     "metadata": {},
     "output_type": "execute_result"
    }
   ],
   "source": [
    "x_train.shape, y_train.shape "
   ]
  },
  {
   "cell_type": "code",
   "execution_count": 154,
   "id": "fb797763",
   "metadata": {},
   "outputs": [
    {
     "data": {
      "text/html": [
       "<div>\n",
       "<style scoped>\n",
       "    .dataframe tbody tr th:only-of-type {\n",
       "        vertical-align: middle;\n",
       "    }\n",
       "\n",
       "    .dataframe tbody tr th {\n",
       "        vertical-align: top;\n",
       "    }\n",
       "\n",
       "    .dataframe thead th {\n",
       "        text-align: right;\n",
       "    }\n",
       "</style>\n",
       "<table border=\"1\" class=\"dataframe\">\n",
       "  <thead>\n",
       "    <tr style=\"text-align: right;\">\n",
       "      <th></th>\n",
       "      <th>High</th>\n",
       "      <th>Low</th>\n",
       "      <th>Open</th>\n",
       "      <th>Close</th>\n",
       "    </tr>\n",
       "  </thead>\n",
       "  <tbody>\n",
       "    <tr>\n",
       "      <th>0</th>\n",
       "      <td>0.064211</td>\n",
       "      <td>0.056080</td>\n",
       "      <td>0.065407</td>\n",
       "      <td>0.056957</td>\n",
       "    </tr>\n",
       "    <tr>\n",
       "      <th>1</th>\n",
       "      <td>0.053492</td>\n",
       "      <td>0.048603</td>\n",
       "      <td>0.051510</td>\n",
       "      <td>0.046369</td>\n",
       "    </tr>\n",
       "    <tr>\n",
       "      <th>2</th>\n",
       "      <td>0.049686</td>\n",
       "      <td>0.050127</td>\n",
       "      <td>0.047114</td>\n",
       "      <td>0.049864</td>\n",
       "    </tr>\n",
       "    <tr>\n",
       "      <th>3</th>\n",
       "      <td>0.052165</td>\n",
       "      <td>0.051615</td>\n",
       "      <td>0.052716</td>\n",
       "      <td>0.053463</td>\n",
       "    </tr>\n",
       "    <tr>\n",
       "      <th>4</th>\n",
       "      <td>0.051257</td>\n",
       "      <td>0.049220</td>\n",
       "      <td>0.052538</td>\n",
       "      <td>0.049549</td>\n",
       "    </tr>\n",
       "    <tr>\n",
       "      <th>5</th>\n",
       "      <td>0.046858</td>\n",
       "      <td>0.040290</td>\n",
       "      <td>0.047504</td>\n",
       "      <td>0.038822</td>\n",
       "    </tr>\n",
       "    <tr>\n",
       "      <th>6</th>\n",
       "      <td>0.039385</td>\n",
       "      <td>0.037423</td>\n",
       "      <td>0.037649</td>\n",
       "      <td>0.036550</td>\n",
       "    </tr>\n",
       "    <tr>\n",
       "      <th>7</th>\n",
       "      <td>0.039804</td>\n",
       "      <td>0.033684</td>\n",
       "      <td>0.037117</td>\n",
       "      <td>0.041477</td>\n",
       "    </tr>\n",
       "    <tr>\n",
       "      <th>8</th>\n",
       "      <td>0.037989</td>\n",
       "      <td>0.035717</td>\n",
       "      <td>0.038322</td>\n",
       "      <td>0.034908</td>\n",
       "    </tr>\n",
       "    <tr>\n",
       "      <th>9</th>\n",
       "      <td>0.032751</td>\n",
       "      <td>0.032269</td>\n",
       "      <td>0.032331</td>\n",
       "      <td>0.032043</td>\n",
       "    </tr>\n",
       "    <tr>\n",
       "      <th>10</th>\n",
       "      <td>0.033135</td>\n",
       "      <td>0.029764</td>\n",
       "      <td>0.030559</td>\n",
       "      <td>0.028444</td>\n",
       "    </tr>\n",
       "    <tr>\n",
       "      <th>11</th>\n",
       "      <td>0.031075</td>\n",
       "      <td>0.028929</td>\n",
       "      <td>0.028325</td>\n",
       "      <td>0.031728</td>\n",
       "    </tr>\n",
       "    <tr>\n",
       "      <th>12</th>\n",
       "      <td>0.031704</td>\n",
       "      <td>0.031216</td>\n",
       "      <td>0.031622</td>\n",
       "      <td>0.029981</td>\n",
       "    </tr>\n",
       "    <tr>\n",
       "      <th>13</th>\n",
       "      <td>0.033135</td>\n",
       "      <td>0.032269</td>\n",
       "      <td>0.030027</td>\n",
       "      <td>0.032742</td>\n",
       "    </tr>\n",
       "    <tr>\n",
       "      <th>14</th>\n",
       "      <td>0.034218</td>\n",
       "      <td>0.033721</td>\n",
       "      <td>0.032260</td>\n",
       "      <td>0.032427</td>\n",
       "    </tr>\n",
       "    <tr>\n",
       "      <th>15</th>\n",
       "      <td>0.033170</td>\n",
       "      <td>0.034156</td>\n",
       "      <td>0.033324</td>\n",
       "      <td>0.033790</td>\n",
       "    </tr>\n",
       "    <tr>\n",
       "      <th>16</th>\n",
       "      <td>0.034323</td>\n",
       "      <td>0.034664</td>\n",
       "      <td>0.033962</td>\n",
       "      <td>0.033336</td>\n",
       "    </tr>\n",
       "    <tr>\n",
       "      <th>17</th>\n",
       "      <td>0.035091</td>\n",
       "      <td>0.035681</td>\n",
       "      <td>0.033927</td>\n",
       "      <td>0.036900</td>\n",
       "    </tr>\n",
       "    <tr>\n",
       "      <th>18</th>\n",
       "      <td>0.041306</td>\n",
       "      <td>0.039201</td>\n",
       "      <td>0.036975</td>\n",
       "      <td>0.042910</td>\n",
       "    </tr>\n",
       "    <tr>\n",
       "      <th>19</th>\n",
       "      <td>0.048219</td>\n",
       "      <td>0.043049</td>\n",
       "      <td>0.042116</td>\n",
       "      <td>0.047802</td>\n",
       "    </tr>\n",
       "  </tbody>\n",
       "</table>\n",
       "</div>"
      ],
      "text/plain": [
       "        High       Low      Open     Close\n",
       "0   0.064211  0.056080  0.065407  0.056957\n",
       "1   0.053492  0.048603  0.051510  0.046369\n",
       "2   0.049686  0.050127  0.047114  0.049864\n",
       "3   0.052165  0.051615  0.052716  0.053463\n",
       "4   0.051257  0.049220  0.052538  0.049549\n",
       "5   0.046858  0.040290  0.047504  0.038822\n",
       "6   0.039385  0.037423  0.037649  0.036550\n",
       "7   0.039804  0.033684  0.037117  0.041477\n",
       "8   0.037989  0.035717  0.038322  0.034908\n",
       "9   0.032751  0.032269  0.032331  0.032043\n",
       "10  0.033135  0.029764  0.030559  0.028444\n",
       "11  0.031075  0.028929  0.028325  0.031728\n",
       "12  0.031704  0.031216  0.031622  0.029981\n",
       "13  0.033135  0.032269  0.030027  0.032742\n",
       "14  0.034218  0.033721  0.032260  0.032427\n",
       "15  0.033170  0.034156  0.033324  0.033790\n",
       "16  0.034323  0.034664  0.033962  0.033336\n",
       "17  0.035091  0.035681  0.033927  0.036900\n",
       "18  0.041306  0.039201  0.036975  0.042910\n",
       "19  0.048219  0.043049  0.042116  0.047802"
      ]
     },
     "metadata": {},
     "output_type": "display_data"
    }
   ],
   "source": [
    "display(pd.DataFrame(x_train[1], columns = cols))"
   ]
  },
  {
   "cell_type": "code",
   "execution_count": 155,
   "id": "9f47a8aa",
   "metadata": {},
   "outputs": [
    {
     "data": {
      "text/html": [
       "<div>\n",
       "<style scoped>\n",
       "    .dataframe tbody tr th:only-of-type {\n",
       "        vertical-align: middle;\n",
       "    }\n",
       "\n",
       "    .dataframe tbody tr th {\n",
       "        vertical-align: top;\n",
       "    }\n",
       "\n",
       "    .dataframe thead th {\n",
       "        text-align: right;\n",
       "    }\n",
       "</style>\n",
       "<table border=\"1\" class=\"dataframe\">\n",
       "  <thead>\n",
       "    <tr style=\"text-align: right;\">\n",
       "      <th></th>\n",
       "      <th>High</th>\n",
       "      <th>Low</th>\n",
       "      <th>Open</th>\n",
       "      <th>Close</th>\n",
       "    </tr>\n",
       "  </thead>\n",
       "  <tbody>\n",
       "    <tr>\n",
       "      <th>0</th>\n",
       "      <td>0.051082</td>\n",
       "      <td>0.052087</td>\n",
       "      <td>0.050978</td>\n",
       "      <td>0.050667</td>\n",
       "    </tr>\n",
       "  </tbody>\n",
       "</table>\n",
       "</div>"
      ],
      "text/plain": [
       "       High       Low      Open     Close\n",
       "0  0.051082  0.052087  0.050978  0.050667"
      ]
     },
     "metadata": {},
     "output_type": "display_data"
    }
   ],
   "source": [
    "display(pd.DataFrame(y_train[1], columns = cols))"
   ]
  },
  {
   "cell_type": "code",
   "execution_count": null,
   "id": "e4a058ef",
   "metadata": {},
   "outputs": [],
   "source": [
    "'''USING CONVLSTM1D, DATASET DIMENSION NEEDS TO BE EXPANDED'''\n",
    "\"\"\"\n",
    "\n",
    "model.add(ConvLSTM1D(filters=16, kernel_size=3, \n",
    "                     input_shape=[None, 4, 1],\n",
    "                     padding=\"same\", return_sequences=True))\n",
    "model.add(BatchNormalization())\n",
    "model.add(ConvLSTM1D(filters=16, kernel_size=3, \n",
    "                     padding=\"same\", return_sequences=True))\n",
    "model.add(BatchNormalization())\n",
    "model.add(ConvLSTM1D(filters=16, kernel_size=3, \n",
    "                     padding=\"same\", return_sequences=False))\n",
    "model.add(BatchNormalization())\n",
    "\n",
    "model.add(Conv1D(filters=1, kernel_size=3,\n",
    "               activation='sigmoid',\n",
    "               padding='same', data_format='channels_last'))\n",
    "\n",
    "\n",
    "\n",
    "model.compile(optimizer='adam', loss='mse')\n",
    "model.summary()\n",
    "\n",
    "\"\"\"\""
   ]
  },
  {
   "cell_type": "code",
   "execution_count": 246,
   "id": "87dde288",
   "metadata": {},
   "outputs": [
    {
     "name": "stdout",
     "output_type": "stream",
     "text": [
      "Model: \"sequential_31\"\n",
      "_________________________________________________________________\n",
      "Layer (type)                 Output Shape              Param #   \n",
      "=================================================================\n",
      "lstm_28 (LSTM)               (None, 20, 50)            11000     \n",
      "_________________________________________________________________\n",
      "dropout_23 (Dropout)         (None, 20, 50)            0         \n",
      "_________________________________________________________________\n",
      "lstm_29 (LSTM)               (None, 20, 50)            20200     \n",
      "_________________________________________________________________\n",
      "dropout_24 (Dropout)         (None, 20, 50)            0         \n",
      "_________________________________________________________________\n",
      "lstm_30 (LSTM)               (None, 4)                 880       \n",
      "=================================================================\n",
      "Total params: 32,080\n",
      "Trainable params: 32,080\n",
      "Non-trainable params: 0\n",
      "_________________________________________________________________\n"
     ]
    }
   ],
   "source": [
    "model = Sequential()\n",
    "model.add(LSTM(units=50, return_sequences=True, input_shape=(x_train.shape[1], x_train.shape[2])))\n",
    "model.add(Dropout(0.2))\n",
    "model.add(LSTM(units=50, return_sequences=True))\n",
    "model.add(Dropout(0.2))\n",
    "model.add(LSTM(units=4, return_sequences=False))\n",
    "\n",
    "model.compile(optimizer='adam', loss='mse')\n",
    "model.summary()"
   ]
  },
  {
   "cell_type": "code",
   "execution_count": 247,
   "id": "d4356267",
   "metadata": {},
   "outputs": [
    {
     "name": "stdout",
     "output_type": "stream",
     "text": [
      "Epoch 1/50\n",
      "43/43 [==============================] - 7s 56ms/step - loss: 0.0018 - val_loss: 0.0057\n",
      "Epoch 2/50\n",
      "43/43 [==============================] - 1s 32ms/step - loss: 0.0098 - val_loss: 0.0042\n",
      "Epoch 3/50\n",
      "43/43 [==============================] - 1s 33ms/step - loss: 0.0034 - val_loss: 0.0031\n",
      "Epoch 4/50\n",
      "43/43 [==============================] - 1s 34ms/step - loss: 0.0021 - val_loss: 0.0024\n",
      "Epoch 5/50\n",
      "43/43 [==============================] - 2s 35ms/step - loss: 0.0012 - val_loss: 0.0025\n",
      "Epoch 6/50\n",
      "43/43 [==============================] - 1s 33ms/step - loss: 9.5099e-04 - val_loss: 0.0022\n",
      "Epoch 7/50\n",
      "43/43 [==============================] - 1s 33ms/step - loss: 8.1782e-04 - val_loss: 0.0019\n",
      "Epoch 8/50\n",
      "43/43 [==============================] - 1s 33ms/step - loss: 7.7478e-04 - val_loss: 0.0023\n",
      "Epoch 9/50\n",
      "43/43 [==============================] - 1s 33ms/step - loss: 7.9534e-04 - val_loss: 0.0025\n",
      "Epoch 10/50\n",
      "43/43 [==============================] - 1s 33ms/step - loss: 7.8520e-04 - val_loss: 0.0024\n",
      "Epoch 11/50\n",
      "43/43 [==============================] - 1s 33ms/step - loss: 7.4328e-04 - val_loss: 0.0023\n",
      "Epoch 12/50\n",
      "43/43 [==============================] - 1s 34ms/step - loss: 7.5152e-04 - val_loss: 0.0024\n",
      "Epoch 13/50\n",
      "43/43 [==============================] - 2s 36ms/step - loss: 7.1318e-04 - val_loss: 0.0022\n",
      "Epoch 14/50\n",
      "43/43 [==============================] - 2s 35ms/step - loss: 7.0571e-04 - val_loss: 0.0022\n",
      "Epoch 15/50\n",
      "43/43 [==============================] - 2s 35ms/step - loss: 6.5607e-04 - val_loss: 0.0024\n",
      "Epoch 16/50\n",
      "43/43 [==============================] - 2s 35ms/step - loss: 6.9814e-04 - val_loss: 0.0022\n",
      "Epoch 17/50\n",
      "43/43 [==============================] - 2s 35ms/step - loss: 6.2589e-04 - val_loss: 0.0026\n",
      "Epoch 18/50\n",
      "43/43 [==============================] - 1s 35ms/step - loss: 7.9431e-04 - val_loss: 0.0019\n",
      "Epoch 19/50\n",
      "43/43 [==============================] - 1s 35ms/step - loss: 7.0298e-04 - val_loss: 0.0024\n",
      "Epoch 20/50\n",
      "43/43 [==============================] - 2s 35ms/step - loss: 9.0194e-04 - val_loss: 0.0019\n",
      "Epoch 21/50\n",
      "43/43 [==============================] - 2s 36ms/step - loss: 7.9648e-04 - val_loss: 0.0024\n",
      "Epoch 22/50\n",
      "43/43 [==============================] - 2s 36ms/step - loss: 9.8205e-04 - val_loss: 0.0019\n",
      "Epoch 23/50\n",
      "43/43 [==============================] - 2s 35ms/step - loss: 8.2148e-04 - val_loss: 0.0021\n",
      "Epoch 24/50\n",
      "43/43 [==============================] - 2s 37ms/step - loss: 8.6152e-04 - val_loss: 0.0018\n",
      "Epoch 25/50\n",
      "43/43 [==============================] - 2s 36ms/step - loss: 6.6437e-04 - val_loss: 0.0023\n",
      "Epoch 26/50\n",
      "43/43 [==============================] - 2s 35ms/step - loss: 8.1111e-04 - val_loss: 0.0018\n",
      "Epoch 27/50\n",
      "43/43 [==============================] - 2s 36ms/step - loss: 6.5521e-04 - val_loss: 0.0023\n",
      "Epoch 28/50\n",
      "43/43 [==============================] - 2s 36ms/step - loss: 8.7203e-04 - val_loss: 0.0019\n",
      "Epoch 29/50\n",
      "43/43 [==============================] - 2s 36ms/step - loss: 7.2613e-04 - val_loss: 0.0022\n",
      "Epoch 30/50\n",
      "43/43 [==============================] - 2s 36ms/step - loss: 7.8740e-04 - val_loss: 0.0019\n",
      "Epoch 31/50\n",
      "43/43 [==============================] - 2s 36ms/step - loss: 6.4338e-04 - val_loss: 0.0022\n",
      "Epoch 32/50\n",
      "43/43 [==============================] - 2s 36ms/step - loss: 7.2445e-04 - val_loss: 0.0019\n",
      "Epoch 33/50\n",
      "43/43 [==============================] - 2s 36ms/step - loss: 6.4206e-04 - val_loss: 0.0022\n",
      "Epoch 34/50\n",
      "43/43 [==============================] - 2s 36ms/step - loss: 7.4682e-04 - val_loss: 0.0020\n",
      "Epoch 35/50\n",
      "43/43 [==============================] - 2s 36ms/step - loss: 5.9002e-04 - val_loss: 0.0022\n",
      "Epoch 36/50\n",
      "43/43 [==============================] - 2s 39ms/step - loss: 6.4463e-04 - val_loss: 0.0019\n",
      "Epoch 37/50\n",
      "43/43 [==============================] - 2s 37ms/step - loss: 6.2413e-04 - val_loss: 0.0020\n",
      "Epoch 38/50\n",
      "43/43 [==============================] - 2s 36ms/step - loss: 6.3991e-04 - val_loss: 0.0019\n",
      "Epoch 39/50\n",
      "43/43 [==============================] - 2s 38ms/step - loss: 5.4837e-04 - val_loss: 0.0023\n",
      "Epoch 40/50\n",
      "43/43 [==============================] - 2s 36ms/step - loss: 6.6950e-04 - val_loss: 0.0019\n",
      "Epoch 41/50\n",
      "43/43 [==============================] - 2s 36ms/step - loss: 6.2045e-04 - val_loss: 0.0023\n",
      "Epoch 42/50\n",
      "43/43 [==============================] - 2s 37ms/step - loss: 8.3723e-04 - val_loss: 0.0018\n",
      "Epoch 43/50\n",
      "43/43 [==============================] - 2s 36ms/step - loss: 7.3222e-04 - val_loss: 0.0022\n",
      "Epoch 44/50\n",
      "43/43 [==============================] - 2s 37ms/step - loss: 0.0010 - val_loss: 0.0018\n",
      "Epoch 45/50\n",
      "43/43 [==============================] - 2s 37ms/step - loss: 7.6584e-04 - val_loss: 0.0021\n",
      "Epoch 46/50\n",
      "43/43 [==============================] - 2s 37ms/step - loss: 9.2590e-04 - val_loss: 0.0018\n",
      "Epoch 47/50\n",
      "43/43 [==============================] - 2s 41ms/step - loss: 6.0575e-04 - val_loss: 0.0020\n",
      "Epoch 48/50\n",
      "43/43 [==============================] - 2s 36ms/step - loss: 6.6591e-04 - val_loss: 0.0018\n",
      "Epoch 49/50\n",
      "43/43 [==============================] - 2s 37ms/step - loss: 5.6324e-04 - val_loss: 0.0020\n",
      "Epoch 50/50\n",
      "43/43 [==============================] - 2s 37ms/step - loss: 5.8127e-04 - val_loss: 0.0019\n"
     ]
    }
   ],
   "source": [
    "history = model.fit(x_train, y_train, epochs =50, batch_size=32,\n",
    "                    validation_split=0.20, verbose=1, shuffle = False)"
   ]
  },
  {
   "cell_type": "code",
   "execution_count": null,
   "id": "1eed0d2a",
   "metadata": {},
   "outputs": [],
   "source": []
  },
  {
   "cell_type": "code",
   "execution_count": 248,
   "id": "26ad0a74",
   "metadata": {},
   "outputs": [
    {
     "data": {
      "image/png": "[encoded data removed]",
      "text/plain": [
       "<Figure size 432x288 with 1 Axes>"
      ]
     },
     "metadata": {
      "needs_background": "light"
     },
     "output_type": "display_data"
    }
   ],
   "source": [
    "plt.plot(history.history['loss'], label='Training loss')\n",
    "plt.plot(history.history['val_loss'], label='Validation loss')\n",
    "plt.legend()\n",
    "plt.show()"
   ]
  },
  {
   "cell_type": "code",
   "execution_count": 249,
   "id": "ef4dcac5",
   "metadata": {},
   "outputs": [
    {
     "data": {
      "text/plain": [
       "(408, 20, 4)"
      ]
     },
     "execution_count": 249,
     "metadata": {},
     "output_type": "execute_result"
    }
   ],
   "source": [
    "# forecast\n",
    "x_test = []\n",
    "y_test = []\n",
    "\n",
    "for i in range(n_past, len(test_dataset)- n_future+1):\n",
    "    x_test.append(test_dataset[i-n_past:i, 0:test_dataset.shape[1]])\n",
    "    y_test.append(test_dataset[i+n_future-1:i+n_future, 0:test_dataset.shape[1]])\n",
    "\n",
    "x_test, y_test = np.array(x_test), np.array(y_test)    \n",
    "x_test.shape"
   ]
  },
  {
   "cell_type": "code",
   "execution_count": 250,
   "id": "33b5c4c8",
   "metadata": {},
   "outputs": [],
   "source": [
    "forecast = model.predict(x_test)"
   ]
  },
  {
   "cell_type": "code",
   "execution_count": 251,
   "id": "4ed2ef2a",
   "metadata": {},
   "outputs": [
    {
     "data": {
      "text/plain": [
       "(408, 4)"
      ]
     },
     "execution_count": 251,
     "metadata": {},
     "output_type": "execute_result"
    }
   ],
   "source": [
    "forecast.shape"
   ]
  },
  {
   "cell_type": "code",
   "execution_count": 252,
   "id": "f6fd7b63",
   "metadata": {},
   "outputs": [],
   "source": [
    "predicted = scaler.inverse_transform(forecast)"
   ]
  },
  {
   "cell_type": "code",
   "execution_count": 217,
   "id": "8a623f16",
   "metadata": {},
   "outputs": [
    {
     "data": {
      "text/plain": [
       "(408, 4)"
      ]
     },
     "execution_count": 217,
     "metadata": {},
     "output_type": "execute_result"
    }
   ],
   "source": [
    "predicted.shape"
   ]
  },
  {
   "cell_type": "code",
   "execution_count": 253,
   "id": "3d05b38b",
   "metadata": {},
   "outputs": [],
   "source": [
    "train_unscaled = scaler.inverse_transform(y_train.reshape(-1, y_train.shape[2]))\n",
    "test_unscaled = scaler.inverse_transform(y_test.reshape(-1, y_test.shape[2]))"
   ]
  },
  {
   "cell_type": "code",
   "execution_count": 254,
   "id": "39aff3ba",
   "metadata": {},
   "outputs": [
    {
     "data": {
      "text/plain": [
       "((1710, 4), (408, 4))"
      ]
     },
     "execution_count": 254,
     "metadata": {},
     "output_type": "execute_result"
    }
   ],
   "source": [
    "train_unscaled.shape, test_unscaled.shape"
   ]
  },
  {
   "cell_type": "code",
   "execution_count": 255,
   "id": "d2e96957",
   "metadata": {},
   "outputs": [
    {
     "data": {
      "image/png": "[encoded data removed]",
      "text/plain": [
       "<Figure size 1152x720 with 4 Axes>"
      ]
     },
     "metadata": {
      "needs_background": "light"
     },
     "output_type": "display_data"
    }
   ],
   "source": [
    "# Check Predictions\n",
    "\n",
    "a_axis = np.arange(0, len(y_train))\n",
    "b_axis = np.arange(len(y_train), len(y_train)+len(y_test))\n",
    "\n",
    "plt.figure(figsize=(16,10))\n",
    "plt.subplot(2,2,1)\n",
    "plt.plot(a_axis, train_unscaled[:,0], color = 'black', label ='past n1')\n",
    "plt.plot(b_axis, test_unscaled[:,0], color = 'red', alpha=0.5, label ='true n1')\n",
    "plt.plot(b_axis, predicted[:,0], color = 'green', label ='pred n1')\n",
    "plt.legend()\n",
    "\n",
    "plt.subplot(2,2,2)\n",
    "plt.plot(a_axis, train_unscaled[:,1], color = 'black', label ='past n2')\n",
    "plt.plot(b_axis, test_unscaled[:,1], color = 'red', alpha=0.5, label ='true n2')\n",
    "plt.plot(b_axis, predicted[:,1], color = 'green', label ='pred n2')\n",
    "plt.legend()\n",
    "\n",
    "plt.subplot(2,2,3)\n",
    "plt.plot(a_axis, train_unscaled[:,2], color = 'black', label ='past n3')\n",
    "plt.plot(b_axis, test_unscaled[:,2], color = 'red', alpha=0.5, label ='true n3')\n",
    "plt.plot(b_axis, predicted[:,2], color = 'green', label ='pred n3')\n",
    "plt.legend()\n",
    "\n",
    "plt.subplot(2,2,4)\n",
    "plt.plot(a_axis, train_unscaled[:,3], color = 'black', label ='past n4')\n",
    "plt.plot(b_axis, test_unscaled[:,3], color = 'red', alpha=0.5, label ='true n4')\n",
    "plt.plot(b_axis, predicted[:,3], color = 'green', label ='pred n4')\n",
    "\n",
    "plt.legend()\n",
    "\n",
    "plt.show()"
   ]
  },
  {
   "cell_type": "code",
   "execution_count": 256,
   "id": "49120fdb",
   "metadata": {},
   "outputs": [
    {
     "name": "stdout",
     "output_type": "stream",
     "text": [
      "Test Score: 36.35 RMSE\n"
     ]
    }
   ],
   "source": [
    "import math\n",
    "\n",
    "testScore = math.sqrt(mean_squared_error(test_unscaled[:,0], predicted[:,0]))\n",
    "print('Test Score: %.2f RMSE' % (testScore))\n"
   ]
  },
  {
   "cell_type": "code",
   "execution_count": null,
   "id": "83fdac96",
   "metadata": {},
   "outputs": [],
   "source": []
  },
  {
   "cell_type": "code",
   "execution_count": null,
   "id": "325f20ae",
   "metadata": {},
   "outputs": [],
   "source": []
  },
  {
   "cell_type": "code",
   "execution_count": null,
   "id": "30e3620a",
   "metadata": {},
   "outputs": [],
   "source": []
  },
  {
   "cell_type": "code",
   "execution_count": null,
   "id": "b8afdc15",
   "metadata": {},
   "outputs": [],
   "source": []
  },
  {
   "cell_type": "code",
   "execution_count": null,
   "id": "24d86763",
   "metadata": {},
   "outputs": [],
   "source": []
  },
  {
   "cell_type": "code",
   "execution_count": null,
   "id": "53d07413",
   "metadata": {},
   "outputs": [],
   "source": []
  },
  {
   "cell_type": "code",
   "execution_count": null,
   "id": "bcad9e24",
   "metadata": {},
   "outputs": [],
   "source": []
  },
  {
   "cell_type": "code",
   "execution_count": null,
   "id": "c33eb374",
   "metadata": {},
   "outputs": [],
   "source": []
  },
  {
   "cell_type": "code",
   "execution_count": null,
   "id": "1f73b653",
   "metadata": {},
   "outputs": [],
   "source": [
    "\n"
   ]
  },
  {
   "cell_type": "code",
   "execution_count": null,
   "id": "294d28b3",
   "metadata": {},
   "outputs": [],
   "source": []
  },
  {
   "cell_type": "code",
   "execution_count": null,
   "id": "f8baa379",
   "metadata": {},
   "outputs": [],
   "source": []
  },
  {
   "cell_type": "code",
   "execution_count": null,
   "id": "172c367d",
   "metadata": {},
   "outputs": [],
   "source": []
  },
  {
   "cell_type": "code",
   "execution_count": null,
   "id": "fdfdfcb2",
   "metadata": {},
   "outputs": [],
   "source": [
    "y_pred.shape"
   ]
  },
  {
   "cell_type": "code",
   "execution_count": null,
   "id": "0780af14",
   "metadata": {},
   "outputs": [],
   "source": []
  },
  {
   "cell_type": "code",
   "execution_count": null,
   "id": "227475c5",
   "metadata": {},
   "outputs": [],
   "source": [
    "dataset.shape"
   ]
  },
  {
   "cell_type": "code",
   "execution_count": null,
   "id": "1a550c49",
   "metadata": {},
   "outputs": [],
   "source": [
    "dataset[1729:1729+10]"
   ]
  },
  {
   "cell_type": "code",
   "execution_count": null,
   "id": "5ff203cc",
   "metadata": {},
   "outputs": [],
   "source": [
    "y_pred[:1]"
   ]
  },
  {
   "cell_type": "code",
   "execution_count": null,
   "id": "fea85938",
   "metadata": {},
   "outputs": [],
   "source": []
  },
  {
   "cell_type": "code",
   "execution_count": null,
   "id": "f7cedde4",
   "metadata": {},
   "outputs": [],
   "source": []
  },
  {
   "cell_type": "code",
   "execution_count": null,
   "id": "b9768289",
   "metadata": {},
   "outputs": [],
   "source": []
  },
  {
   "cell_type": "code",
   "execution_count": null,
   "id": "f31c744b",
   "metadata": {},
   "outputs": [],
   "source": [
    "# plotting\n",
    "\n",
    "plt.plot()"
   ]
  },
  {
   "cell_type": "code",
   "execution_count": null,
   "id": "5c38741e",
   "metadata": {},
   "outputs": [],
   "source": []
  },
  {
   "cell_type": "code",
   "execution_count": null,
   "id": "c3732409",
   "metadata": {},
   "outputs": [],
   "source": []
  },
  {
   "cell_type": "code",
   "execution_count": null,
   "id": "1ddaea1c",
   "metadata": {},
   "outputs": [],
   "source": []
  }
 ],
 "metadata": {
  "kernelspec": {
   "display_name": "Python 3",
   "language": "python",
   "name": "python3"
  },
  "language_info": {
   "codemirror_mode": {
    "name": "ipython",
    "version": 3
   },
   "file_extension": ".py",
   "mimetype": "text/x-python",
   "name": "python",
   "nbconvert_exporter": "python",
   "pygments_lexer": "ipython3",
   "version": "3.6.13"
  }
 },
 "nbformat": 4,
 "nbformat_minor": 5
}
